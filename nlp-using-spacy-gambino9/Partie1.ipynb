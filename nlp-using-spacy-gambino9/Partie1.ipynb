{
 "cells": [
  {
   "cell_type": "markdown",
   "id": "4a79cdd3",
   "metadata": {
    "id": "4a79cdd3"
   },
   "source": [
    "# Part 1\n",
    "\n",
    "\n",
    "# Finding words, phrases, names and concepts\n",
    "\n",
    "This part will introduce you to the basics of text processing with spaCy. You'll learn about the data structures, how to work with trained pipelines, and how to use them to predict linguistic features in your text."
   ]
  },
  {
   "cell_type": "markdown",
   "id": "e65bd9cd",
   "metadata": {
    "id": "e65bd9cd"
   },
   "source": [
    "## A. Introduction to spaCy\n",
    "\n",
    "### The nlp object"
   ]
  },
  {
   "cell_type": "code",
   "execution_count": 1,
   "id": "5363bca8",
   "metadata": {
    "id": "5363bca8"
   },
   "outputs": [],
   "source": [
    "# Import spaCy\n",
    "import spacy\n",
    "\n",
    "# Create a blank English nlp object\n",
    "nlp = spacy.blank(\"en\")"
   ]
  },
  {
   "cell_type": "markdown",
   "id": "1922183d",
   "metadata": {
    "id": "1922183d"
   },
   "source": [
    "To create an English `nlp` object, you can import `spacy` and use the `spacy.blank` method to create a blank English pipeline. You can use the `nlp` object like a function to analyze text.\n",
    "\n",
    "It contains all the different components in the pipeline.\n",
    "\n",
    "It also includes language-specific rules used for tokenizing the text into words and punctuation. spaCy supports a variety of languages.\n",
    "\n",
    "- contains the processing pipeline\n",
    "- includes language-specific rules for tokenization etc."
   ]
  },
  {
   "cell_type": "markdown",
   "id": "5ab795cf",
   "metadata": {
    "id": "5ab795cf"
   },
   "source": [
    "### The Doc object\n",
    "\n",
    "When you process a text with the `nlp` object, spaCy creates a `Doc` object – short for \"document\". The Doc lets you access information about the text in a structured way, and no information is lost.\n",
    "\n",
    "The Doc behaves like a normal Python sequence by the way and lets you iterate over its tokens, or get a token by its index."
   ]
  },
  {
   "cell_type": "code",
   "execution_count": 2,
   "id": "1f5c509a",
   "metadata": {
    "colab": {
     "base_uri": "https://localhost:8080/"
    },
    "id": "1f5c509a",
    "outputId": "0b718786-2f85-4815-f59c-4b9da8462e8f"
   },
   "outputs": [
    {
     "name": "stdout",
     "output_type": "stream",
     "text": [
      "Hello\n",
      "world\n",
      "!\n"
     ]
    }
   ],
   "source": [
    "# Created by processing a string of text with the nlp object\n",
    "doc = nlp(\"Hello world!\")\n",
    "\n",
    "# Iterate over tokens in a Doc\n",
    "for token in doc:\n",
    "    print(token.text)"
   ]
  },
  {
   "cell_type": "raw",
   "id": "8d8ab972",
   "metadata": {
    "id": "8d8ab972"
   },
   "source": [
    "OUTPUT:\n",
    "Hello\n",
    "world\n",
    "!"
   ]
  },
  {
   "cell_type": "markdown",
   "id": "30ebcc89",
   "metadata": {
    "id": "30ebcc89"
   },
   "source": [
    "### The Token object\n",
    "\n",
    "`Token` objects represent the tokens in a document – for example, a word or a punctuation character.\n",
    "\n",
    "To get a token at a specific position, you can index into the doc.\n",
    "\n",
    "`Token` objects also provide various attributes that let you access more information about the tokens. For example, the .text attribute returns the verbatim token text.\n",
    "\n",
    "![image.png](attachment:image.png)"
   ]
  },
  {
   "cell_type": "code",
   "execution_count": 3,
   "id": "e087f86f",
   "metadata": {
    "colab": {
     "base_uri": "https://localhost:8080/"
    },
    "id": "e087f86f",
    "outputId": "5682215b-cb6e-490a-e70b-fe9c378f9b92"
   },
   "outputs": [
    {
     "name": "stdout",
     "output_type": "stream",
     "text": [
      "world\n"
     ]
    }
   ],
   "source": [
    "doc = nlp(\"Hello world!\")\n",
    "\n",
    "# Index into the Doc to get a single Token\n",
    "token = doc[1]\n",
    "\n",
    "# Get the token text via the .text attribute\n",
    "print(token.text)"
   ]
  },
  {
   "cell_type": "raw",
   "id": "468e07e0",
   "metadata": {
    "id": "468e07e0"
   },
   "source": [
    "OUTPUT:\n",
    "world"
   ]
  },
  {
   "cell_type": "markdown",
   "id": "a9cea951",
   "metadata": {
    "id": "a9cea951"
   },
   "source": [
    "### The Span object\n",
    "\n",
    "A `Span` object is a slice of the document consisting of one or more tokens. It's only a view of the Doc and doesn't contain any data itself.\n",
    "\n",
    "To create a span, you can use Python's slice notation. For example, `1:3` will create a slice starting from the token at position 1, up to – but not including! – the token at position 3.\n",
    "\n",
    "![image.png](attachment:image.png)"
   ]
  },
  {
   "cell_type": "code",
   "execution_count": 4,
   "id": "63db4fd5",
   "metadata": {
    "colab": {
     "base_uri": "https://localhost:8080/"
    },
    "id": "63db4fd5",
    "outputId": "b4b59e9a-2c73-4fd9-d0b1-dfd4f43e1b33"
   },
   "outputs": [
    {
     "name": "stdout",
     "output_type": "stream",
     "text": [
      "world!\n"
     ]
    }
   ],
   "source": [
    "doc = nlp(\"Hello world!\")\n",
    "\n",
    "# A slice from the Doc is a Span object\n",
    "span = doc[1:3]\n",
    "\n",
    "# Get the span text via the .text attribute\n",
    "print(span.text)"
   ]
  },
  {
   "cell_type": "raw",
   "id": "65aca02b",
   "metadata": {
    "id": "65aca02b"
   },
   "source": [
    "OUTPUT:\n",
    "world!"
   ]
  },
  {
   "cell_type": "markdown",
   "id": "9201d6fe",
   "metadata": {
    "id": "9201d6fe"
   },
   "source": [
    "### Lexical Attributes\n",
    "\n",
    "Here you can see some of the available token attributes:\n",
    "\n",
    "`i` is the index of the token within the parent document.\n",
    "\n",
    "`text` returns the token text.\n",
    "\n",
    "`is_alpha`, `is_punct` and `like_num` return boolean values indicating whether the token consists of alphabetic characters, whether it's punctuation or whether it resembles a number. For example, a token \"10\" – one, zero – or the word \"ten\" – T, E, N.\n",
    "\n",
    "These attributes are also called lexical attributes: they refer to the entry in the vocabulary and don't depend on the token's context."
   ]
  },
  {
   "cell_type": "code",
   "execution_count": 5,
   "id": "90182409",
   "metadata": {
    "id": "90182409"
   },
   "outputs": [],
   "source": [
    "doc = nlp(\"It costs $5.\")"
   ]
  },
  {
   "cell_type": "code",
   "execution_count": 6,
   "id": "eba1e71a",
   "metadata": {
    "colab": {
     "base_uri": "https://localhost:8080/"
    },
    "id": "eba1e71a",
    "outputId": "7db174e1-4473-4f1b-caa2-49d6239a69d6"
   },
   "outputs": [
    {
     "name": "stdout",
     "output_type": "stream",
     "text": [
      "Index:    [0, 1, 2, 3, 4]\n",
      "Text:     ['It', 'costs', '$', '5', '.']\n",
      "is_alpha: [True, True, False, False, False]\n",
      "is_punct: [False, False, False, False, True]\n",
      "like_num: [False, False, False, True, False]\n"
     ]
    }
   ],
   "source": [
    "print(\"Index:   \", [token.i for token in doc])\n",
    "print(\"Text:    \", [token.text for token in doc])\n",
    "\n",
    "print(\"is_alpha:\", [token.is_alpha for token in doc])\n",
    "print(\"is_punct:\", [token.is_punct for token in doc])\n",
    "print(\"like_num:\", [token.like_num for token in doc])"
   ]
  },
  {
   "cell_type": "raw",
   "id": "7fbf7482",
   "metadata": {
    "id": "7fbf7482"
   },
   "source": [
    "OUTPUT:\n",
    "Index:    [0, 1, 2, 3, 4]\n",
    "Text:     ['It', 'costs', '$', '5', '.']\n",
    "\n",
    "is_alpha: [True, True, False, False, False]\n",
    "is_punct: [False, False, False, False, True]\n",
    "like_num: [False, False, False, True, False]"
   ]
  },
  {
   "cell_type": "markdown",
   "id": "a1b0fbdb",
   "metadata": {
    "id": "a1b0fbdb"
   },
   "source": [
    "## B. Getting Started\n",
    "\n",
    "Let’s get it started !\n",
    "\n",
    "#### Part 1: English\n",
    "\n",
    "- Use ```spacy.blank``` to create a blank English (```\"en\"```) ```nlp``` object.\n",
    "- Create a ```doc``` and print its text."
   ]
  },
  {
   "cell_type": "code",
   "execution_count": 8,
   "id": "857ad3dc",
   "metadata": {
    "colab": {
     "base_uri": "https://localhost:8080/"
    },
    "id": "857ad3dc",
    "outputId": "a9da29f9-ec86-4ae8-e90d-9e5993085d91"
   },
   "outputs": [
    {
     "name": "stdout",
     "output_type": "stream",
     "text": [
      "This is a sentence.\n"
     ]
    }
   ],
   "source": [
    "# Import spaCy\n",
    "import spacy\n",
    "\n",
    "# Create the English nlp object\n",
    "nlp = spacy.blank(\"en\")\n",
    "\n",
    "# Process a text\n",
    "doc = nlp(\"This is a sentence.\")\n",
    "\n",
    "# Print the document text\n",
    "print(doc.text)"
   ]
  },
  {
   "cell_type": "markdown",
   "id": "1d372531",
   "metadata": {
    "id": "1d372531"
   },
   "source": [
    "#### Part 2: German\n",
    "\n",
    "- Use ```spacy.blank``` to create a blank German (```\"de\"```) ```nlp``` object.\n",
    "- Create a ```doc``` and print its text."
   ]
  },
  {
   "cell_type": "code",
   "execution_count": 9,
   "id": "ef7e6a74",
   "metadata": {
    "colab": {
     "base_uri": "https://localhost:8080/"
    },
    "id": "ef7e6a74",
    "outputId": "c9b27bc3-8411-4c45-e423-a74f1447b9c6"
   },
   "outputs": [
    {
     "name": "stdout",
     "output_type": "stream",
     "text": [
      "Liebe Grüße!\n"
     ]
    }
   ],
   "source": [
    "# Import spaCy\n",
    "import spacy\n",
    "\n",
    "# Create the German nlp object\n",
    "nlp = spacy.blank(\"de\")\n",
    "\n",
    "# Process a text (this is German for: \"Kind regards!\")\n",
    "doc = nlp(\"Liebe Grüße!\")\n",
    "\n",
    "# Print the document text\n",
    "print(doc.text)"
   ]
  },
  {
   "cell_type": "markdown",
   "id": "22528f08",
   "metadata": {
    "id": "22528f08"
   },
   "source": [
    "#### Part 3: Spanish\n",
    "\n",
    "- Use ```spacy.blank``` to create a blank Spanish (```\"es\"```) ```nlp``` object.\n",
    "- Create a ```doc``` and print its text."
   ]
  },
  {
   "cell_type": "code",
   "execution_count": 13,
   "id": "090c83a0",
   "metadata": {
    "colab": {
     "base_uri": "https://localhost:8080/"
    },
    "id": "090c83a0",
    "outputId": "bd5933f5-36ec-4135-8ccf-a1880452ba29"
   },
   "outputs": [
    {
     "name": "stdout",
     "output_type": "stream",
     "text": [
      "¿Cómo estás?\n"
     ]
    }
   ],
   "source": [
    "# Import spaCy\n",
    "import spacy\n",
    "\n",
    "# Create the Spanish nlp object\n",
    "nlp = spacy.blank(\"es\")\n",
    "\n",
    "# Process a text (this is Spanish for: \"How are you?\")\n",
    "doc = nlp(\"¿Cómo estás?\")\n",
    "\n",
    "# Print the document text\n",
    "print(doc.text)"
   ]
  },
  {
   "cell_type": "markdown",
   "id": "0708ef7d",
   "metadata": {
    "id": "0708ef7d"
   },
   "source": [
    "\n",
    "## C. Documents, spans and tokens\n",
    "\n",
    "When you call ```nlp``` on a string, spaCy first tokenizes the text and creates a document object.\n",
    "In this exercise, you’ll learn more about the ```Doc```, as well as its views ```Token``` and ```Span```.\n"
   ]
  },
  {
   "cell_type": "markdown",
   "id": "e5874cb9",
   "metadata": {
    "id": "e5874cb9"
   },
   "source": [
    "#### Step 1\n",
    "\n",
    "- Use ```spacy.blank``` to create the English ```nlp``` object.\n",
    "- Process the text and instantiate a ```Doc``` object in the variable ```doc```.\n",
    "- Select the first token of the ```Doc``` and print its ```text```.\n"
   ]
  },
  {
   "cell_type": "code",
   "execution_count": 19,
   "id": "041d5cac",
   "metadata": {
    "colab": {
     "base_uri": "https://localhost:8080/"
    },
    "id": "041d5cac",
    "outputId": "23cf288b-6ed0-426c-b875-83ffe53e7c77"
   },
   "outputs": [
    {
     "name": "stdout",
     "output_type": "stream",
     "text": [
      "I\n"
     ]
    }
   ],
   "source": [
    "# Import spaCy and create the English nlp object\n",
    "import spacy\n",
    "\n",
    "nlp = spacy.blank(\"en\")\n",
    "\n",
    "# Process the text\n",
    "doc = nlp(\"I like tree kangaroos and narwhals.\")\n",
    "\n",
    "# Select the first token\n",
    "first_token = doc[0]\n",
    "\n",
    "# Print the first token's text\n",
    "print(first_token)"
   ]
  },
  {
   "cell_type": "markdown",
   "id": "170b6e00",
   "metadata": {
    "id": "170b6e00"
   },
   "source": [
    "#### Step 2\n",
    "\n",
    "- Use ```spacy.blank``` to create the English ```nlp``` object.\n",
    "- Process the text and instantiate a ```Doc``` object in the variable ```doc```.\n",
    "- Create a slice of the ```Doc``` for the tokens “tree kangaroos” and “tree kangaroos and narwhals”.\n"
   ]
  },
  {
   "cell_type": "code",
   "execution_count": 18,
   "id": "a66f7160",
   "metadata": {
    "colab": {
     "base_uri": "https://localhost:8080/"
    },
    "id": "a66f7160",
    "outputId": "7dbfe66c-e5ba-4581-db97-5348f10e22fc"
   },
   "outputs": [
    {
     "name": "stdout",
     "output_type": "stream",
     "text": [
      "tree kangaroos\n",
      "tree kangaroos and narwhals\n"
     ]
    }
   ],
   "source": [
    "# Import spaCy and create the English nlp object\n",
    "import spacy\n",
    "\n",
    "nlp = spacy.blank(\"en\")\n",
    "\n",
    "# Process the text\n",
    "doc = nlp(\"I like tree kangaroos and narwhals.\")\n",
    "\n",
    "# A slice of the Doc for \"tree kangaroos\"\n",
    "tree_kangaroos = doc[2:4]\n",
    "print(tree_kangaroos.text)\n",
    "\n",
    "# A slice of the Doc for \"tree kangaroos and narwhals\" (without the \".\")\n",
    "tree_kangaroos_and_narwhals = doc[2:-1]\n",
    "print(tree_kangaroos_and_narwhals.text)"
   ]
  },
  {
   "cell_type": "markdown",
   "id": "224e5bd0",
   "metadata": {
    "id": "224e5bd0"
   },
   "source": [
    " \n",
    "  "
   ]
  },
  {
   "cell_type": "markdown",
   "id": "d4f9aad1",
   "metadata": {
    "id": "d4f9aad1"
   },
   "source": [
    "\n",
    "## D. Lexical attributes\n",
    "\n",
    "In this example, you’ll use spaCy’s ```Doc``` and ```Token``` objects, and lexical attributes to find percentages in a text. You’ll be looking for two subsequent tokens: a number and a percent sign.\n",
    "\n",
    "- Use the ```like_num``` token attribute to check whether a token in the ```doc``` resembles a number.\n",
    "- Get the token *following* the current token in the document. The index of the next token in the ```doc``` is ```token.i + 1```.\n",
    "- Check whether the next token’s ```text``` attribute is a percent sign ”%“.\n"
   ]
  },
  {
   "cell_type": "code",
   "execution_count": 22,
   "id": "b91ed655",
   "metadata": {
    "colab": {
     "base_uri": "https://localhost:8080/"
    },
    "id": "b91ed655",
    "outputId": "b86e664a-93b7-4ec0-ea2e-cbb8b504dbea"
   },
   "outputs": [
    {
     "name": "stdout",
     "output_type": "stream",
     "text": [
      "Percentage found: 60\n",
      "Percentage found: 4\n"
     ]
    }
   ],
   "source": [
    "import spacy\n",
    "\n",
    "nlp = spacy.blank(\"en\")\n",
    "\n",
    "# Process the text\n",
    "doc = nlp(\n",
    "    \"In 1990, more than 60% of people in East Asia were in extreme poverty. \"\n",
    "    \"Now less than 4% are.\"\n",
    ")\n",
    "\n",
    "# Iterate over the tokens in the doc\n",
    "for token in doc:\n",
    "    # Check if the token resembles a number\n",
    "    if token.like_num:\n",
    "        # Get the next token in the document\n",
    "        next_token = doc[token.i + 1]\n",
    "        # Check if the next token's text equals \"%\"\n",
    "        if next_token.text == \"%\":\n",
    "            print(\"Percentage found:\", token.text)"
   ]
  },
  {
   "cell_type": "markdown",
   "id": "3b780313",
   "metadata": {
    "id": "3b780313"
   },
   "source": [
    " \n",
    "  "
   ]
  },
  {
   "cell_type": "markdown",
   "id": "694cf23f",
   "metadata": {
    "id": "694cf23f"
   },
   "source": [
    "\n",
    "## E. Trained pipelines\n",
    "\n",
    "### What are trained pipelines?\n",
    "\n",
    "Some of the most interesting things you can analyze are context-specific: for example, whether a word is a verb or whether a span of text is a person name.\n",
    "\n",
    "Trained pipeline components have statistical models that enable spaCy to make predictions in context. This usually includes part-of speech tags, syntactic dependencies and named entities.\n",
    "\n",
    "Pipelines are trained on large datasets of labeled example texts.\n",
    "\n",
    "They can be updated with more examples to fine-tune their predictions – for example, to perform better on your specific data.\n",
    "\n",
    "- Models that enable spaCy to predict linguistic attributes *in context*\n",
    "    - Part-of-speech tags\n",
    "    - Syntactic dependencies\n",
    "    - Named entities\n",
    "\n",
    "- Trained on labeled example texts\n",
    "- Can be updated with more examples to fine-tune predictions\n",
    "\n",
    "### Pipeline Packages\n",
    "\n",
    "The `spacy.load` method loads a pipeline package by name and returns an `nlp` object.\n",
    "\n",
    "The package provides the binary weights that enable spaCy to make predictions.\n",
    "\n",
    "It also includes the vocabulary, meta information about the pipeline and the configuration file used to train it. It tells spaCy which language class to use and how to configure the processing pipeline."
   ]
  },
  {
   "cell_type": "code",
   "execution_count": 3,
   "id": "642e5090",
   "metadata": {
    "colab": {
     "base_uri": "https://localhost:8080/",
     "height": 132
    },
    "id": "642e5090",
    "outputId": "94114df0-b583-4aeb-8ce3-29574963dd8d"
   },
   "outputs": [
    {
     "ename": "SyntaxError",
     "evalue": "invalid syntax (<ipython-input-3-f5e13114b15d>, line 1)",
     "output_type": "error",
     "traceback": [
      "\u001b[0;36m  File \u001b[0;32m\"<ipython-input-3-f5e13114b15d>\"\u001b[0;36m, line \u001b[0;32m1\u001b[0m\n\u001b[0;31m    $ python -m spacy download en_core_web_sm\u001b[0m\n\u001b[0m    ^\u001b[0m\n\u001b[0;31mSyntaxError\u001b[0m\u001b[0;31m:\u001b[0m invalid syntax\n"
     ]
    }
   ],
   "source": [
    "$ python -m spacy download en_core_web_sm"
   ]
  },
  {
   "cell_type": "code",
   "execution_count": 2,
   "id": "b71943a6",
   "metadata": {
    "id": "b71943a6"
   },
   "outputs": [
    {
     "ename": "ModuleNotFoundError",
     "evalue": "No module named 'spacy'",
     "output_type": "error",
     "traceback": [
      "\u001b[0;31m---------------------------------------------------------------------------\u001b[0m",
      "\u001b[0;31mModuleNotFoundError\u001b[0m                       Traceback (most recent call last)",
      "\u001b[0;32m<ipython-input-2-8af15dcdd866>\u001b[0m in \u001b[0;36m<module>\u001b[0;34m\u001b[0m\n\u001b[0;32m----> 1\u001b[0;31m \u001b[0;32mimport\u001b[0m \u001b[0mspacy\u001b[0m\u001b[0;34m\u001b[0m\u001b[0;34m\u001b[0m\u001b[0m\n\u001b[0m\u001b[1;32m      2\u001b[0m \u001b[0;34m\u001b[0m\u001b[0m\n\u001b[1;32m      3\u001b[0m \u001b[0mnlp\u001b[0m \u001b[0;34m=\u001b[0m \u001b[0mspacy\u001b[0m\u001b[0;34m.\u001b[0m\u001b[0mload\u001b[0m\u001b[0;34m(\u001b[0m\u001b[0;34m\"en_core_web_sm\"\u001b[0m\u001b[0;34m)\u001b[0m\u001b[0;34m\u001b[0m\u001b[0;34m\u001b[0m\u001b[0m\n",
      "\u001b[0;31mModuleNotFoundError\u001b[0m: No module named 'spacy'"
     ]
    }
   ],
   "source": [
    "import spacy\n",
    "\n",
    "nlp = spacy.load(\"en_core_web_sm\")"
   ]
  },
  {
   "cell_type": "markdown",
   "id": "1c07784a",
   "metadata": {
    "id": "1c07784a"
   },
   "source": [
    "- Binary weights\n",
    "- Vocabulary\n",
    "- Meta information\n",
    "- Configuration file"
   ]
  },
  {
   "cell_type": "markdown",
   "id": "fe510965",
   "metadata": {
    "id": "fe510965"
   },
   "source": [
    " ### Predicting Part-of-speech Tags\n",
    " \n",
    "In this example, we're using spaCy to predict part-of-speech tags, the word types in context.\n",
    "\n",
    "First, we load the small English pipeline and receive an `nlp` object.\n",
    "\n",
    "Next, we're processing the text \"She ate the pizza\".\n",
    "\n",
    "For each token in the doc, we can print the text and the `.pos_` attribute, the predicted part-of-speech tag.\n",
    "\n",
    "Here, the model correctly predicted \"ate\" as a verb and \"pizza\" as a noun."
   ]
  },
  {
   "cell_type": "code",
   "execution_count": 27,
   "id": "16297bcf",
   "metadata": {
    "colab": {
     "base_uri": "https://localhost:8080/"
    },
    "id": "16297bcf",
    "outputId": "6e4f45fa-8aeb-4ea1-e8c8-0b176436efd4"
   },
   "outputs": [
    {
     "name": "stdout",
     "output_type": "stream",
     "text": [
      "She PRON\n",
      "ate VERB\n",
      "the DET\n",
      "pizza NOUN\n"
     ]
    }
   ],
   "source": [
    "import spacy\n",
    "\n",
    "# Load the small English pipeline\n",
    "nlp = spacy.load(\"en_core_web_sm\")\n",
    "\n",
    "# Process a text\n",
    "doc = nlp(\"She ate the pizza\")\n",
    "\n",
    "# Iterate over the tokens\n",
    "for token in doc:\n",
    "    # Print the text and the predicted part-of-speech tag\n",
    "    print(token.text, token.pos_)"
   ]
  },
  {
   "cell_type": "raw",
   "id": "74137fbe",
   "metadata": {
    "id": "74137fbe"
   },
   "source": [
    "OUTPUT:\n",
    "She PRON\n",
    "ate VERB\n",
    "the DET\n",
    "pizza NOUN"
   ]
  },
  {
   "cell_type": "markdown",
   "id": "6989b221",
   "metadata": {
    "id": "6989b221"
   },
   "source": [
    "### Predicting Syntactic Dependencies\n",
    "\n",
    "In addition to the part-of-speech tags, we can also predict how the words are related. For example, whether a word is the subject of the sentence or an object.\n",
    "\n",
    "The `.dep_` attribute returns the predicted dependency label.\n",
    "\n",
    "The `.head` attribute returns the syntactic head token. You can also think of it as the parent token this word is attached to."
   ]
  },
  {
   "cell_type": "code",
   "execution_count": 28,
   "id": "a3f0fba2",
   "metadata": {
    "colab": {
     "base_uri": "https://localhost:8080/"
    },
    "id": "a3f0fba2",
    "outputId": "d622086c-ae23-4cf8-ecbe-4be579a93bfd"
   },
   "outputs": [
    {
     "name": "stdout",
     "output_type": "stream",
     "text": [
      "She PRON nsubj ate\n",
      "ate VERB ROOT ate\n",
      "the DET det pizza\n",
      "pizza NOUN dobj ate\n"
     ]
    }
   ],
   "source": [
    "for token in doc:\n",
    "    print(token.text, token.pos_, token.dep_, token.head.text)"
   ]
  },
  {
   "cell_type": "raw",
   "id": "22ae8109",
   "metadata": {
    "id": "22ae8109"
   },
   "source": [
    "OUTPUT:\n",
    "She PRON nsubj ate\n",
    "ate VERB ROOT ate\n",
    "the DET det pizza\n",
    "pizza NOUN dobj ate"
   ]
  },
  {
   "cell_type": "markdown",
   "id": "7b736a12",
   "metadata": {
    "id": "7b736a12"
   },
   "source": [
    "### Dependency label scheme\n",
    "\n",
    "Here's an example of some common labels:\n",
    "\n",
    "The pronoun \"She\" is a nominal subject attached to the verb – in this case, to \"ate\".\n",
    "\n",
    "The noun \"pizza\" is a direct object attached to the verb \"ate\". It is eaten by the subject, \"she\".\n",
    "\n",
    "The determiner \"the\", also known as an article, is attached to the noun \"pizza\".\n",
    "\n",
    "![image.png](attachment:image.png)\n",
    "\n",
    "### Predicting Named Entities\n",
    "\n",
    "Named entities are \"real world objects\" that are assigned a name – for example, a person, an organization or a country.\n",
    "\n",
    "The `doc.ents` property lets you access the named entities predicted by the named entity recognition model.\n",
    "\n",
    "It returns an iterator of `Span` objects, so we can print the entity text and the entity label using the `.label_` attribute.\n",
    "\n",
    "In this case, the model is correctly predicting \"Apple\" as an organization, \"U.K.\" as a geopolitical entity and \"$1 billion\" as money.\n",
    "\n",
    "![image-2.png](attachment:image-2.png)"
   ]
  },
  {
   "cell_type": "code",
   "execution_count": 29,
   "id": "f2f30c7d",
   "metadata": {
    "colab": {
     "base_uri": "https://localhost:8080/"
    },
    "id": "f2f30c7d",
    "outputId": "a55edf4a-77b9-49aa-bb9c-e7f90ef4a235"
   },
   "outputs": [
    {
     "name": "stdout",
     "output_type": "stream",
     "text": [
      "Apple ORG\n",
      "U.K. GPE\n",
      "$1 billion MONEY\n"
     ]
    }
   ],
   "source": [
    "# Process a text\n",
    "doc = nlp(\"Apple is looking at buying U.K. startup for $1 billion\")\n",
    "\n",
    "# Iterate over the predicted entities\n",
    "for ent in doc.ents:\n",
    "    # Print the entity text and its label\n",
    "    print(ent.text, ent.label_)"
   ]
  },
  {
   "cell_type": "raw",
   "id": "2cb9c411",
   "metadata": {
    "id": "2cb9c411"
   },
   "source": [
    "OUTPUT:\n",
    "Apple ORG\n",
    "U.K. GPE\n",
    "$1 billion MONEY"
   ]
  },
  {
   "cell_type": "markdown",
   "id": "9615dbd3",
   "metadata": {
    "id": "9615dbd3"
   },
   "source": [
    "\n",
    "## F. Loading pipelines\n",
    "\n",
    "- Use ```spacy.load``` to load the small English pipeline ```\"en_core_web_sm\"```.\n",
    "- Process the text and print the document text.\n"
   ]
  },
  {
   "cell_type": "code",
   "execution_count": 32,
   "id": "8a322e94",
   "metadata": {
    "colab": {
     "base_uri": "https://localhost:8080/"
    },
    "id": "8a322e94",
    "outputId": "cb10ba2b-75da-47e4-ff7c-151b5c870fe9"
   },
   "outputs": [
    {
     "name": "stdout",
     "output_type": "stream",
     "text": [
      "It’s official: Apple is the first U.S. public company to reach a $1 trillion market value\n"
     ]
    }
   ],
   "source": [
    "import spacy\n",
    "\n",
    "# Load the \"en_core_web_sm\" pipeline\n",
    "nlp = spacy.load(\"en_core_web_sm\")\n",
    "\n",
    "text = \"It’s official: Apple is the first U.S. public company to reach a $1 trillion market value\"\n",
    "\n",
    "# Process the text\n",
    "doc = nlp(text)\n",
    "\n",
    "# Print the document text\n",
    "print(doc.text)"
   ]
  },
  {
   "cell_type": "markdown",
   "id": "0a8654a1",
   "metadata": {
    "id": "0a8654a1"
   },
   "source": [
    " \n",
    " "
   ]
  },
  {
   "cell_type": "markdown",
   "id": "c59688a4",
   "metadata": {
    "id": "c59688a4"
   },
   "source": [
    "\n",
    "## G. Predicting linguistic annotations\n",
    "\n",
    "You’ll now get to try one of spaCy’s trained pipeline packages and see its predictions in action. \n",
    "Feel free to try it out on your own text!\n"
   ]
  },
  {
   "cell_type": "markdown",
   "id": "6a5c925c",
   "metadata": {
    "id": "6a5c925c"
   },
   "source": [
    "#### Part 1\n",
    "\n",
    "- Process the text with the ```nlp``` object and create a ```doc```.\n",
    "- For each token, print the token text, the token’s ```.pos_``` (part-of-speech tag) and the token’s ```.dep_``` (dependency label)."
   ]
  },
  {
   "cell_type": "code",
   "execution_count": 34,
   "id": "5f624d81",
   "metadata": {
    "colab": {
     "base_uri": "https://localhost:8080/"
    },
    "id": "5f624d81",
    "outputId": "029d9865-24bf-4f0d-c48d-cf658e444d12"
   },
   "outputs": [
    {
     "name": "stdout",
     "output_type": "stream",
     "text": [
      "It          PRON      nsubj     \n",
      "’s          VERB      punct     \n",
      "official    NOUN      ccomp     \n",
      ":           PUNCT     punct     \n",
      "Apple       PROPN     nsubj     \n",
      "is          AUX       ROOT      \n",
      "the         DET       det       \n",
      "first       ADJ       amod      \n",
      "U.S.        PROPN     nmod      \n",
      "public      ADJ       amod      \n",
      "company     NOUN      attr      \n",
      "to          PART      aux       \n",
      "reach       VERB      relcl     \n",
      "a           DET       det       \n",
      "$           SYM       quantmod  \n",
      "1           NUM       compound  \n",
      "trillion    NUM       nummod    \n",
      "market      NOUN      compound  \n",
      "value       NOUN      dobj      \n"
     ]
    }
   ],
   "source": [
    "import spacy\n",
    "\n",
    "nlp = spacy.load(\"en_core_web_sm\")\n",
    "\n",
    "text = \"It’s official: Apple is the first U.S. public company to reach a $1 trillion market value\"\n",
    "\n",
    "# Process the text\n",
    "doc = nlp(text)\n",
    "\n",
    "for token in doc:\n",
    "    # Get the token text, part-of-speech tag and dependency label\n",
    "    token_text = token.text\n",
    "    token_pos = token.pos_\n",
    "    token_dep = token.dep_\n",
    "    # This is for formatting only\n",
    "    print(f\"{token_text:<12}{token_pos:<10}{token_dep:<10}\")"
   ]
  },
  {
   "cell_type": "markdown",
   "id": "49dbe121",
   "metadata": {
    "id": "49dbe121"
   },
   "source": [
    "#### Part 2\n",
    "\n",
    "- Process the text and create a ```doc``` object.\n",
    "- Iterate over the ```doc.ents``` and print the entity text and ```label_``` attribute.\n"
   ]
  },
  {
   "cell_type": "code",
   "execution_count": 35,
   "id": "dd8a6d68",
   "metadata": {
    "colab": {
     "base_uri": "https://localhost:8080/"
    },
    "id": "dd8a6d68",
    "outputId": "8a2ef587-bbef-47de-e6e9-0d81135e6deb"
   },
   "outputs": [
    {
     "name": "stdout",
     "output_type": "stream",
     "text": [
      "Apple ORG\n",
      "first ORDINAL\n",
      "U.S. GPE\n",
      "$1 trillion MONEY\n"
     ]
    }
   ],
   "source": [
    "import spacy\n",
    "\n",
    "nlp = spacy.load(\"en_core_web_sm\")\n",
    "\n",
    "text = \"It’s official: Apple is the first U.S. public company to reach a $1 trillion market value\"\n",
    "\n",
    "# Process the text\n",
    "doc = nlp(text)\n",
    "\n",
    "# Iterate over the predicted entities\n",
    "for ent in doc.ents:\n",
    "    # Print the entity text and its label\n",
    "    print(ent.text, ent.label_)"
   ]
  },
  {
   "cell_type": "markdown",
   "id": "0ea22016",
   "metadata": {
    "id": "0ea22016"
   },
   "source": [
    "## H. Predicting named entities in context\n",
    "\n",
    "Models are statistical and not *always* right. Whether their predictions are correct depends on the training data and the text you’re processing. Let’s take a look at an example.\n",
    "\n",
    "- Process the text with the ```nlp``` object.\n",
    "- Iterate over the entities and print the entity text and label.\n",
    "- Looks like the model didn’t predict “iPhone X”. Create a span for those tokens manually.\n"
   ]
  },
  {
   "cell_type": "code",
   "execution_count": 38,
   "id": "56caa7ab",
   "metadata": {
    "colab": {
     "base_uri": "https://localhost:8080/"
    },
    "id": "56caa7ab",
    "outputId": "34e0b380-cfd2-47df-b981-f86e3790ac26"
   },
   "outputs": [
    {
     "name": "stdout",
     "output_type": "stream",
     "text": [
      "Apple ORG\n",
      "Missing entity: iPhone X\n"
     ]
    }
   ],
   "source": [
    "import spacy\n",
    "\n",
    "nlp = spacy.load(\"en_core_web_sm\")\n",
    "\n",
    "text = \"Upcoming iPhone X release date leaked as Apple reveals pre-orders\"\n",
    "\n",
    "# Process the text\n",
    "doc = nlp(text)\n",
    "\n",
    "# Iterate over the entities\n",
    "for ent in doc.ents:\n",
    "    # Print the entity text and label\n",
    "    print(ent.text, ent.label_)\n",
    "\n",
    "# Get the span for \"iPhone X\"\n",
    "iphone_x = doc[1:3]\n",
    "\n",
    "# Print the span text\n",
    "print(\"Missing entity:\", iphone_x.text)"
   ]
  },
  {
   "cell_type": "markdown",
   "id": "e5b0a565",
   "metadata": {
    "id": "e5b0a565"
   },
   "source": [
    "## I. Rule-based matching\n",
    "\n",
    "### Why not just regular expressions?\n",
    "\n",
    "Compared to regular expressions, the matcher works with `Doc` and `Token` objects instead of only strings.\n",
    "\n",
    "It's also more flexible: you can search for texts but also other lexical attributes.\n",
    "\n",
    "You can even write rules that use a model's predictions.\n",
    "\n",
    "For example, find the word \"duck\" only if it's a verb, not a noun.\n",
    "\n",
    "- Match on ```Doc``` objects, not just strings\n",
    "- Match on tokens and token attributes\n",
    "- Use a model's predictions\n",
    "- Example: \"duck\" (verb) vs. \"duck\" (noun)\n",
    "\n",
    "### Match patterns\n",
    "\n",
    "Match patterns are lists of dictionaries. Each dictionary describes one token. The keys are the names of token attributes, mapped to their expected values.\n",
    "\n",
    "In this example, we're looking for two tokens with the text \"iPhone\" and \"X\".\n",
    "\n",
    "We can also match on other token attributes. Here, we're looking for two tokens whose lowercase forms equal \"iphone\" and \"x\".\n",
    "\n",
    "We can even write patterns using attributes predicted by a model. Here, we're matching a token with the lemma \"buy\", plus a noun. The lemma is the base form, so this pattern would match phrases like \"buying milk\" or \"bought flowers\".\n",
    "\n",
    "- Lists of dictionaries, one per token\n",
    "- Match exact token texts\n",
    "\n",
    "```[{\"TEXT\": \"iPhone\"}, {\"TEXT\": \"X\"}]```\n",
    "- Match lexical attributes\n",
    "\n",
    "```[{\"LOWER\": \"iphone\"}, {\"LOWER\": \"x\"}]```\n",
    "- Match any token attributes\n",
    "\n",
    "```[{\"LEMMA\": \"acheter\"}, {\"POS\": \"NOUN\"}]```\n",
    "\n",
    "### Using the Matcher (1)\n",
    "\n",
    "To use a pattern, we first import the matcher from `spacy.matcher`.\n",
    "\n",
    "We also load a pipeline and create the `nlp` object.\n",
    "\n",
    "The matcher is initialized with the shared vocabulary, `nlp.vocab`. You'll learn more about this later – for now, just remember to always pass it in.\n",
    "\n",
    "The `matcher.add` method lets you add a pattern. The first argument is a unique ID to identify which pattern was matched. The second argument is a list of patterns.\n",
    "\n",
    "To match the pattern on a text, we can call the matcher on any doc.\n",
    "\n",
    "This will return the matches."
   ]
  },
  {
   "cell_type": "code",
   "execution_count": 43,
   "id": "316abed2",
   "metadata": {
    "colab": {
     "base_uri": "https://localhost:8080/"
    },
    "id": "316abed2",
    "outputId": "6945c561-385e-4318-e87f-b2c3c33d5c42"
   },
   "outputs": [
    {
     "name": "stdout",
     "output_type": "stream",
     "text": [
      "[(9528407286733565721, 1, 3)]\n"
     ]
    }
   ],
   "source": [
    "import spacy\n",
    "\n",
    "# Import the Matcher\n",
    "from spacy.matcher import Matcher\n",
    "\n",
    "# Load a pipeline and create the nlp object\n",
    "nlp = spacy.load(\"en_core_web_sm\")\n",
    "\n",
    "# Initialize the matcher with the shared vocab\n",
    "matcher = Matcher(nlp.vocab)\n",
    "\n",
    "# Add the pattern to the matcher\n",
    "pattern = [{\"TEXT\": \"iPhone\"}, {\"TEXT\": \"X\"}]\n",
    "matcher.add(\"IPHONE_PATTERN\", [pattern])\n",
    "\n",
    "# Process some text\n",
    "doc = nlp(\"Upcoming iPhone X release date leaked\")\n",
    "\n",
    "# Call the matcher on the doc\n",
    "matches = matcher(doc)\n",
    "\n",
    "print(matches)"
   ]
  },
  {
   "cell_type": "markdown",
   "id": "23848038",
   "metadata": {
    "id": "23848038"
   },
   "source": [
    "### Using the Matcher (2)\n",
    "\n",
    "When you call the matcher on a doc, it returns a list of tuples.\n",
    "\n",
    "Each tuple consists of three values: the match ID, the start index and the end index of the matched span.\n",
    "\n",
    "This means we can iterate over the matches and create a `Span` object: a slice of the doc at the start and end index."
   ]
  },
  {
   "cell_type": "code",
   "execution_count": 44,
   "id": "719ef151",
   "metadata": {
    "colab": {
     "base_uri": "https://localhost:8080/"
    },
    "id": "719ef151",
    "outputId": "23d3e143-5ab1-4714-8c4f-fda045cda2a3"
   },
   "outputs": [
    {
     "name": "stdout",
     "output_type": "stream",
     "text": [
      "iPhone X\n"
     ]
    }
   ],
   "source": [
    "# Call the matcher on the doc\n",
    "doc = nlp(\"Upcoming iPhone X release date leaked\")\n",
    "matches = matcher(doc)\n",
    "\n",
    "# Iterate over the matches\n",
    "for match_id, start, end in matches:\n",
    "    # Get the matched span\n",
    "    matched_span = doc[start:end]\n",
    "    print(matched_span.text)"
   ]
  },
  {
   "cell_type": "raw",
   "id": "193b02ba",
   "metadata": {
    "id": "193b02ba"
   },
   "source": [
    "OUTPUT:\n",
    "iPhone X"
   ]
  },
  {
   "cell_type": "markdown",
   "id": "070f8ca0",
   "metadata": {
    "id": "070f8ca0"
   },
   "source": [
    "- ```match_id```: hash value of the pattern name\n",
    "- ```start```: start index of matched span\n",
    "- ```end```: end index of matched span\n",
    "\n",
    "### Matching lexical attributes\n",
    "\n",
    "Here's an example of a more complex pattern using lexical attributes.\n",
    "\n",
    "We're looking for five tokens:\n",
    "\n",
    "A token consisting of only digits.\n",
    "\n",
    "Three case-insensitive tokens for \"fifa\", \"world\" and \"cup\".\n",
    "\n",
    "And a token that consists of punctuation.\n",
    "\n",
    "The pattern matches the tokens \"2018 FIFA World Cup:\""
   ]
  },
  {
   "cell_type": "code",
   "execution_count": 45,
   "id": "38503db1",
   "metadata": {
    "id": "38503db1"
   },
   "outputs": [],
   "source": [
    "pattern = [\n",
    "    {\"IS_DIGIT\": True},\n",
    "    {\"LOWER\": \"fifa\"},\n",
    "    {\"LOWER\": \"world\"},\n",
    "    {\"LOWER\": \"cup\"},\n",
    "    {\"IS_PUNCT\": True}\n",
    "]"
   ]
  },
  {
   "cell_type": "code",
   "execution_count": 46,
   "id": "c89dc1f0",
   "metadata": {
    "id": "c89dc1f0"
   },
   "outputs": [],
   "source": [
    "doc = nlp(\"2018 FIFA World Cup: France won!\")"
   ]
  },
  {
   "cell_type": "raw",
   "id": "44b093ff",
   "metadata": {
    "id": "44b093ff"
   },
   "source": [
    "OUTPUT:\n",
    "2018 FIFA World Cup:"
   ]
  },
  {
   "cell_type": "markdown",
   "id": "5c5a0fba",
   "metadata": {
    "id": "5c5a0fba"
   },
   "source": [
    "### Matching other token attributes\n",
    "\n",
    "In this example, we're looking for two tokens:\n",
    "\n",
    "A verb with the lemma \"love\", followed by a noun.\n",
    "\n",
    "This pattern will match \"loved dogs\" and \"love cats\"."
   ]
  },
  {
   "cell_type": "code",
   "execution_count": 47,
   "id": "35f66b96",
   "metadata": {
    "id": "35f66b96"
   },
   "outputs": [],
   "source": [
    "pattern = [\n",
    "    {\"LEMMA\": \"love\", \"POS\": \"VERB\"},\n",
    "    {\"POS\": \"NOUN\"}\n",
    "]"
   ]
  },
  {
   "cell_type": "code",
   "execution_count": 49,
   "id": "3e47fc23",
   "metadata": {
    "id": "3e47fc23"
   },
   "outputs": [],
   "source": [
    "doc = nlp(\"I loved dogs but now I love cats more.\")"
   ]
  },
  {
   "cell_type": "raw",
   "id": "0059d3b0",
   "metadata": {
    "id": "0059d3b0"
   },
   "source": [
    "OUTPUT:\n",
    "loved dogs\n",
    "love cats"
   ]
  },
  {
   "cell_type": "markdown",
   "id": "9f0d2b91",
   "metadata": {
    "id": "9f0d2b91"
   },
   "source": [
    "### Using operators and quantifiers (1)\n",
    "\n",
    "Operators and quantifiers let you define how often a token should be matched. They can be added using the \"OP\" key.\n",
    "\n",
    "Here, the \"?\" operator makes the determiner token optional, so it will match a token with the lemma \"buy\", an optional article and a noun."
   ]
  },
  {
   "cell_type": "code",
   "execution_count": 50,
   "id": "2c6bd04b",
   "metadata": {
    "id": "2c6bd04b"
   },
   "outputs": [],
   "source": [
    "pattern = [\n",
    "    {\"LEMMA\": \"buy\"},\n",
    "    {\"POS\": \"DET\", \"OP\": \"?\"},  # optional: match 0 or 1 times\n",
    "    {\"POS\": \"NOUN\"}\n",
    "]"
   ]
  },
  {
   "cell_type": "code",
   "execution_count": 51,
   "id": "b3fe2d21",
   "metadata": {
    "id": "b3fe2d21"
   },
   "outputs": [],
   "source": [
    "doc = nlp(\"I bought a smartphone. Now I'm buying apps.\")"
   ]
  },
  {
   "cell_type": "raw",
   "id": "ec15bf91",
   "metadata": {
    "id": "ec15bf91"
   },
   "source": [
    "OUTPUT:\n",
    "bought a smartphone\n",
    "buying apps"
   ]
  },
  {
   "cell_type": "markdown",
   "id": "P-Mx4GcLcN9h",
   "metadata": {
    "id": "P-Mx4GcLcN9h"
   },
   "source": []
  },
  {
   "cell_type": "markdown",
   "id": "e48ec782",
   "metadata": {
    "id": "e48ec782"
   },
   "source": [
    "### Using operators and quantifiers (2)\n",
    "\n",
    "\"OP\" can have one of four values:\n",
    "\n",
    "An \"!\" negates the token, so it's matched 0 times.\n",
    "\n",
    "A \"?\" makes the token optional, and matches it 0 or 1 times.\n",
    "\n",
    "A \"+\" matches a token 1 or more times.\n",
    "\n",
    "And finally, an \"*\" matches 0 or more times.\n",
    "\n",
    "Operators can make your patterns a lot more powerful, but they also add more complexity – so use them wisely.\n",
    "\n",
    "![image.png](attachment:image.png)"
   ]
  },
  {
   "cell_type": "markdown",
   "id": "42bd3503",
   "metadata": {
    "id": "42bd3503"
   },
   "source": [
    "## J. Using the Matcher\n",
    "\n",
    "Let’s try spaCy’s rule-based ```Matcher```. You’ll be using the example from the previous exercise and write a pattern that can match the phrase “iPhone X” in the text.\n",
    "\n",
    "- Import the ```Matcher``` from ```spacy.matcher```.\n",
    "- Initialize it with the ```nlp``` object’s shared ```vocab```.\n",
    "- Create a pattern that matches the ```\"TEXT\"``` values of two tokens: ```\"iPhone\"``` and ```\"X\"```.\n",
    "- Use the ```matcher.add``` method to add the pattern to the matcher.\n",
    "- Call the matcher on the ```doc``` and store the result in the variable ```matches```.\n",
    "- Iterate over the matches and get the matched span from the ```start``` to the ```end``` index.\n"
   ]
  },
  {
   "cell_type": "code",
   "execution_count": 56,
   "id": "13e35af1",
   "metadata": {
    "colab": {
     "base_uri": "https://localhost:8080/"
    },
    "id": "13e35af1",
    "outputId": "67f6aa93-1b64-452d-9b9c-2928700dd996"
   },
   "outputs": [
    {
     "name": "stdout",
     "output_type": "stream",
     "text": [
      "Matches: ['iPhone X']\n"
     ]
    }
   ],
   "source": [
    "import spacy\n",
    "\n",
    "# Import the Matcher\n",
    "from spacy.matcher import Matcher\n",
    "\n",
    "nlp = spacy.load(\"en_core_web_sm\")\n",
    "doc = nlp(\"Upcoming iPhone X release date leaked as Apple reveals pre-orders\")\n",
    "\n",
    "# Initialize the Matcher with the shared vocabulary\n",
    "matcher = Matcher(nlp.vocab)\n",
    "\n",
    "# Create a pattern matching two tokens: \"iPhone\" and \"X\"\n",
    "pattern = [{\"TEXT\":\"iPhone\"}, {\"TEXT\": \"X\"}]\n",
    "\n",
    "# Add the pattern to the matcher\n",
    "matcher.add(\"IPHONE_X_PATTERN\", [pattern])\n",
    "\n",
    "# Use the matcher on the doc\n",
    "matches = matcher(doc)\n",
    "print(\"Matches:\", [doc[start:end].text for match_id, start, end in matches])"
   ]
  },
  {
   "cell_type": "markdown",
   "id": "28988d70",
   "metadata": {
    "id": "28988d70"
   },
   "source": [
    " \n",
    "  "
   ]
  },
  {
   "cell_type": "markdown",
   "id": "56cc360a",
   "metadata": {
    "id": "56cc360a"
   },
   "source": [
    "\n",
    "## K. Writing match patterns\n",
    "\n",
    "In this exercise, you’ll practice writing more complex match patterns using different token attributes and operators."
   ]
  },
  {
   "cell_type": "markdown",
   "id": "61ac6327",
   "metadata": {
    "id": "61ac6327"
   },
   "source": [
    "#### Part 1\n",
    "\n",
    "- Write **one** pattern that only matches mentions of the *full* iOS versions: “iOS 7”, “iOS 11” and “iOS 10”."
   ]
  },
  {
   "cell_type": "code",
   "execution_count": 57,
   "id": "baa3c898",
   "metadata": {
    "colab": {
     "base_uri": "https://localhost:8080/"
    },
    "id": "baa3c898",
    "outputId": "36a88789-6567-4b0d-df86-8ec7932a791e"
   },
   "outputs": [
    {
     "name": "stdout",
     "output_type": "stream",
     "text": [
      "Total matches found: 3\n",
      "Match found: iOS 7\n",
      "Match found: iOS 11\n",
      "Match found: iOS 10\n"
     ]
    }
   ],
   "source": [
    "import spacy\n",
    "from spacy.matcher import Matcher\n",
    "\n",
    "nlp = spacy.load(\"en_core_web_sm\")\n",
    "matcher = Matcher(nlp.vocab)\n",
    "\n",
    "doc = nlp(\n",
    "    \"After making the iOS update you won't notice a radical system-wide \"\n",
    "    \"redesign: nothing like the aesthetic upheaval we got with iOS 7. Most of \"\n",
    "    \"iOS 11's furniture remains the same as in iOS 10. But you will discover \"\n",
    "    \"some tweaks once you delve a little deeper.\"\n",
    ")\n",
    "\n",
    "# Write a pattern for full iOS versions (\"iOS 7\", \"iOS 11\", \"iOS 10\")\n",
    "pattern = [{\"TEXT\": \"iOS\"}, {\"IS_DIGIT\": True}]\n",
    "\n",
    "# Add the pattern to the matcher and apply the matcher to the doc\n",
    "matcher.add(\"IOS_VERSION_PATTERN\", [pattern])\n",
    "matches = matcher(doc)\n",
    "print(\"Total matches found:\", len(matches))\n",
    "\n",
    "# Iterate over the matches and print the span text\n",
    "for match_id, start, end in matches:\n",
    "    print(\"Match found:\", doc[start:end].text)"
   ]
  },
  {
   "cell_type": "markdown",
   "id": "b7fa89ef",
   "metadata": {
    "id": "b7fa89ef"
   },
   "source": [
    "#### Part 2\n",
    "\n",
    "- Write **one** pattern that only matches forms of “download” (tokens with the lemma “download”), followed by a token with the part-of-speech tag ```\"PROPN\"``` (proper noun)."
   ]
  },
  {
   "cell_type": "code",
   "execution_count": 61,
   "id": "e98cd3a7",
   "metadata": {
    "colab": {
     "base_uri": "https://localhost:8080/"
    },
    "id": "e98cd3a7",
    "outputId": "9c291403-1fc9-4776-f7ab-ed471872394c"
   },
   "outputs": [
    {
     "name": "stdout",
     "output_type": "stream",
     "text": [
      "Total matches found: 3\n",
      "Match found: downloaded Fortnite\n",
      "Match found: downloading Minecraft\n",
      "Match found: download Winzip\n"
     ]
    }
   ],
   "source": [
    "import spacy\n",
    "from spacy.matcher import Matcher\n",
    "\n",
    "nlp = spacy.load(\"en_core_web_sm\")\n",
    "matcher = Matcher(nlp.vocab)\n",
    "\n",
    "doc = nlp(\n",
    "    \"i downloaded Fortnite on my laptop and can't open the game at all. Help? \"\n",
    "    \"so when I was downloading Minecraft, I got the Windows version where it \"\n",
    "    \"is the '.zip' folder and I used the default program to unpack it... do \"\n",
    "    \"I also need to download Winzip?\"\n",
    ")\n",
    "\n",
    "# Write a pattern that matches a form of \"download\" plus proper noun\n",
    "pattern = [{\"LEMMA\": \"download\"}, {\"POS\": \"PROPN\"}]\n",
    "\n",
    "# Add the pattern to the matcher and apply the matcher to the doc\n",
    "matcher.add(\"DOWNLOAD_THINGS_PATTERN\", [pattern])\n",
    "matches = matcher(doc)\n",
    "print(\"Total matches found:\", len(matches))\n",
    "\n",
    "# Iterate over the matches and print the span text\n",
    "for match_id, start, end in matches:\n",
    "    print(\"Match found:\", doc[start:end].text)"
   ]
  },
  {
   "cell_type": "markdown",
   "id": "4cfb9a82",
   "metadata": {
    "id": "4cfb9a82"
   },
   "source": [
    "#### Part 3\n",
    "\n",
    "Write **one** pattern that matches adjectives (```\"ADJ\"```) followed by one or two ```\"NOUN\"```s (one noun and one optional noun)."
   ]
  },
  {
   "cell_type": "code",
   "execution_count": 72,
   "id": "73fca44e",
   "metadata": {
    "colab": {
     "base_uri": "https://localhost:8080/"
    },
    "id": "73fca44e",
    "outputId": "ae93e77b-9128-4220-914f-1024ff6bdf24"
   },
   "outputs": [
    {
     "name": "stdout",
     "output_type": "stream",
     "text": [
      "Total matches found: 5\n",
      "Match found: beautiful design\n",
      "Match found: smart search\n",
      "Match found: automatic labels\n",
      "Match found: optional voice\n",
      "Match found: optional voice responses\n"
     ]
    }
   ],
   "source": [
    "import spacy\n",
    "from spacy.matcher import Matcher\n",
    "\n",
    "nlp = spacy.load(\"en_core_web_sm\")\n",
    "matcher = Matcher(nlp.vocab)\n",
    "\n",
    "doc = nlp(\n",
    "    \"Features of the app include a beautiful design, smart search, automatic \"\n",
    "    \"labels and optional voice responses.\"\n",
    ")\n",
    "\n",
    "# Write a pattern for adjective plus one or two nouns\n",
    "pattern = [{\"POS\": \"ADJ\"}, {\"POS\": \"NOUN\"}, {\"POS\": \"NOUN\", \"OP\": \"?\"}]\n",
    "\n",
    "# Add the pattern to the matcher and apply the matcher to the doc\n",
    "matcher.add(\"ADJ_NOUN_PATTERN\", [pattern])\n",
    "matches = matcher(doc)\n",
    "print(\"Total matches found:\", len(matches))\n",
    "\n",
    "# Iterate over the matches and print the span text\n",
    "for match_id, start, end in matches:\n",
    "    print(\"Match found:\", doc[start:end].text)"
   ]
  },
  {
   "cell_type": "code",
   "execution_count": null,
   "id": "FZSHNGAsgupo",
   "metadata": {
    "id": "FZSHNGAsgupo"
   },
   "outputs": [],
   "source": []
  }
 ],
 "metadata": {
  "colab": {
   "collapsed_sections": [
    "e48ec782"
   ],
   "name": "Partie1.ipynb",
   "provenance": []
  },
  "kernelspec": {
   "display_name": "Python 3",
   "language": "python",
   "name": "python3"
  },
  "language_info": {
   "codemirror_mode": {
    "name": "ipython",
    "version": 3
   },
   "file_extension": ".py",
   "mimetype": "text/x-python",
   "name": "python",
   "nbconvert_exporter": "python",
   "pygments_lexer": "ipython3",
   "version": "3.8.10"
  }
 },
 "nbformat": 4,
 "nbformat_minor": 5
}
