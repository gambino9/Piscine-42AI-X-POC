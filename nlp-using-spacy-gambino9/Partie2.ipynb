{
 "cells": [
  {
   "cell_type": "markdown",
   "id": "1f084bbf",
   "metadata": {
    "id": "1f084bbf"
   },
   "source": [
    "# Part 2\n",
    "\n",
    "## Large-scale data analysis with spaCy\n",
    "\n",
    "In this part, you'll use your new skills to extract specific information from large volumes of text. You'll learn how to make the most of spaCy's data structures, and how to effectively combine statistical and rule-based approaches for text analysis.\n",
    "\n",
    "\n",
    "## A. Data Structures (1): Vocab, Lexemes and StringStore\n",
    "\n",
    "### Shared vocab and string store (1)\n",
    "\n",
    "spaCy stores all shared data in a vocabulary, the Vocab.\n",
    "This includes words, but also the labels schemes for tags and entities.\n",
    "To save memory, all strings are encoded to hash IDs. If a word occurs more than once, we don't need to save it every time.\n",
    "\n",
    "- ```Vocab``` : stores data shared across multiple documents\n",
    "- To save memory, spaCy encodes all strings to **hash values**\n",
    "- Strings are only stored once in the ```StringStore``` via ```nlp.vocab.strings```\n",
    "- String store: **lookup table** in both directions"
   ]
  },
  {
   "cell_type": "code",
   "execution_count": 3,
   "id": "c02cdf33",
   "metadata": {
    "id": "c02cdf33"
   },
   "outputs": [],
   "source": [
    "import spacy\n",
    "\n",
    "nlp = spacy.blank(\"en\")\n",
    "\n",
    "nlp.vocab.strings.add(\"coffee\")\n",
    "coffee_hash = nlp.vocab.strings[\"coffee\"]\n",
    "coffee_string = nlp.vocab.strings[coffee_hash]"
   ]
  },
  {
   "cell_type": "markdown",
   "id": "989a3bb0",
   "metadata": {
    "id": "989a3bb0"
   },
   "source": [
    "- Hashes can't be reversed – that's why we need to provide the shared vocab"
   ]
  },
  {
   "cell_type": "code",
   "execution_count": 4,
   "id": "1677b33d",
   "metadata": {
    "id": "1677b33d"
   },
   "outputs": [],
   "source": [
    "# Raises an error if we haven't seen the string before\n",
    "string = nlp.vocab.strings[3197928453018144401]"
   ]
  },
  {
   "cell_type": "markdown",
   "id": "3b7f0ccb",
   "metadata": {
    "id": "3b7f0ccb"
   },
   "source": [
    "To get the hash for a string, we can look it up in `nlp.vocab.strings`.\n",
    "\n",
    "To get the string representation of a hash, we can look up the hash.\n",
    "\n",
    "A `Doc` object also exposes its vocab and strings.\n",
    "\n",
    "\n",
    "- Look up the string and hash in `nlp.vocab.strings`"
   ]
  },
  {
   "cell_type": "code",
   "execution_count": 5,
   "id": "fafa9cc1",
   "metadata": {
    "colab": {
     "base_uri": "https://localhost:8080/"
    },
    "id": "fafa9cc1",
    "outputId": "63a776f7-fa95-4d4c-fe5d-b2ca9c46ec7b"
   },
   "outputs": [
    {
     "name": "stdout",
     "output_type": "stream",
     "text": [
      "hash value: 3197928453018144401\n",
      "string value: coffee\n"
     ]
    }
   ],
   "source": [
    "doc = nlp(\"I love coffee\")\n",
    "print(\"hash value:\", nlp.vocab.strings[\"coffee\"])\n",
    "print(\"string value:\", nlp.vocab.strings[3197928453018144401])"
   ]
  },
  {
   "cell_type": "raw",
   "id": "c0ac4799",
   "metadata": {
    "id": "c0ac4799"
   },
   "source": [
    "OUTPUT:\n",
    "hash value: 3197928453018144401\n",
    "string value: coffee"
   ]
  },
  {
   "cell_type": "markdown",
   "id": "e2f2575c",
   "metadata": {
    "id": "e2f2575c"
   },
   "source": [
    "- The ```doc``` also exposes the vocab and strings"
   ]
  },
  {
   "cell_type": "code",
   "execution_count": 6,
   "id": "ef21153f",
   "metadata": {
    "colab": {
     "base_uri": "https://localhost:8080/"
    },
    "id": "ef21153f",
    "outputId": "4f95105c-a6d8-466b-a38a-dc3c4e2f7f32"
   },
   "outputs": [
    {
     "name": "stdout",
     "output_type": "stream",
     "text": [
      "hash value: 3197928453018144401\n"
     ]
    }
   ],
   "source": [
    "doc = nlp(\"I love coffee\")\n",
    "print(\"hash value:\", doc.vocab.strings[\"coffee\"])"
   ]
  },
  {
   "cell_type": "raw",
   "id": "1f8f0d79",
   "metadata": {
    "id": "1f8f0d79"
   },
   "source": [
    "OUTPUT:\n",
    "hash value: 3197928453018144401"
   ]
  },
  {
   "cell_type": "markdown",
   "id": "ab70a764",
   "metadata": {
    "id": "ab70a764"
   },
   "source": [
    "\n",
    "### Lexemes: entries in the vocabulary\n",
    "\n",
    "Lexemes are context-independent entries in the vocabulary.\n",
    "\n",
    "You can get a lexeme by looking up a string or a hash ID in the vocab.\n",
    "\n",
    "Lexemes expose attributes, just like tokens.\n",
    "\n",
    "They hold context-independent information about a word, like the text, or whether the word consists of alphabetic characters.\n",
    "\n",
    "Lexemes don't have part-of-speech tags, dependencies or entity labels. Those depend on the context.\n",
    "\n",
    "\n",
    "- A ```Lexeme``` object is an entry in the vocabulary"
   ]
  },
  {
   "cell_type": "code",
   "execution_count": 7,
   "id": "9de6d962",
   "metadata": {
    "colab": {
     "base_uri": "https://localhost:8080/"
    },
    "id": "9de6d962",
    "outputId": "0ee83115-b901-43ba-e524-9f42995fd9da"
   },
   "outputs": [
    {
     "name": "stdout",
     "output_type": "stream",
     "text": [
      "coffee 3197928453018144401 True\n"
     ]
    }
   ],
   "source": [
    "doc = nlp(\"I love coffee\")\n",
    "lexeme = nlp.vocab[\"coffee\"]\n",
    "\n",
    "# Print the lexical attributes\n",
    "print(lexeme.text, lexeme.orth, lexeme.is_alpha)"
   ]
  },
  {
   "cell_type": "raw",
   "id": "2f72cf54",
   "metadata": {
    "id": "2f72cf54"
   },
   "source": [
    "OUTPUT:\n",
    "coffee 3197928453018144401 True"
   ]
  },
  {
   "cell_type": "markdown",
   "id": "1e2d41cb",
   "metadata": {
    "id": "1e2d41cb"
   },
   "source": [
    "- Contains the **context-independent** information about a word\n",
    "    - Word text: ```lexeme.text``` and ```lexeme.orth``` (the hash)\n",
    "    - Lexical attributes like ```lexeme.is_alpha```\n",
    "    - **Not** context-dependent part-of-speech tags, dependencies or entity labels"
   ]
  },
  {
   "cell_type": "markdown",
   "id": "4dbe816b",
   "metadata": {
    "id": "4dbe816b"
   },
   "source": [
    "\n",
    "### Vocab, hashes and lexemes\n",
    "\n",
    "The Doc contains words in context – in this case, the tokens \"Ines\", \"nage\" and \"souvent\" with their part-of-speech tags and dependencies.\n",
    "\n",
    "Each token refers to a lexeme, which knows the word's hash ID. To get the string representation of the word, spaCy looks up the hash in the string store.\n"
   ]
  },
  {
   "cell_type": "markdown",
   "id": "e3f27bab",
   "metadata": {
    "id": "e3f27bab"
   },
   "source": [
    "![image.png](attachment:image.png)"
   ]
  },
  {
   "cell_type": "markdown",
   "id": "5a7534ba",
   "metadata": {
    "id": "5a7534ba"
   },
   "source": [
    "## B. Strings to hashes\n",
    "\n",
    "#### Part 1\n",
    "\n",
    "- Look up the string “cat” in ```nlp.vocab.strings``` to get the hash.\n",
    "- Look up the hash to get back the string."
   ]
  },
  {
   "cell_type": "code",
   "execution_count": 9,
   "id": "93055fec",
   "metadata": {
    "colab": {
     "base_uri": "https://localhost:8080/"
    },
    "id": "93055fec",
    "outputId": "d943eeed-ad07-4139-88e6-c2052bdca6dd"
   },
   "outputs": [
    {
     "name": "stdout",
     "output_type": "stream",
     "text": [
      "5439657043933447811\n",
      "cat\n"
     ]
    }
   ],
   "source": [
    "import spacy\n",
    "\n",
    "nlp = spacy.blank(\"en\")\n",
    "doc = nlp(\"I have a cat\")\n",
    "\n",
    "# Look up the hash for the word \"cat\"\n",
    "cat_hash = nlp.vocab.strings[\"cat\"]\n",
    "print(cat_hash)\n",
    "\n",
    "# Look up the cat_hash to get the string\n",
    "cat_string = doc.vocab.strings[cat_hash]\n",
    "print(cat_string)"
   ]
  },
  {
   "cell_type": "markdown",
   "id": "f6df6f91",
   "metadata": {
    "id": "f6df6f91"
   },
   "source": [
    "#### Part 2\n",
    "\n",
    "- Look up the string label “PERSON” in ```nlp.vocab.strings``` to get the hash.\n",
    "- Look up the hash to get back the string.\n"
   ]
  },
  {
   "cell_type": "code",
   "execution_count": 10,
   "id": "df30b49b",
   "metadata": {
    "colab": {
     "base_uri": "https://localhost:8080/"
    },
    "id": "df30b49b",
    "outputId": "99a620ba-4837-4057-b3a9-463cbf8f3af4"
   },
   "outputs": [
    {
     "name": "stdout",
     "output_type": "stream",
     "text": [
      "380\n",
      "PERSON\n"
     ]
    }
   ],
   "source": [
    "import spacy\n",
    "\n",
    "nlp = spacy.blank(\"en\")\n",
    "doc = nlp(\"David Bowie is a PERSON\")\n",
    "\n",
    "# Look up the hash for the string label \"PERSON\"\n",
    "person_hash = nlp.vocab.strings[\"PERSON\"]\n",
    "print(person_hash)\n",
    "\n",
    "# Look up the person_hash to get the string\n",
    "person_string = doc.vocab.strings[person_hash]\n",
    "print(person_string)"
   ]
  },
  {
   "cell_type": "markdown",
   "id": "754a9956",
   "metadata": {
    "id": "754a9956"
   },
   "source": [
    "## C. Data Structures (2): Doc, Span and Token\n",
    "\n",
    "\n",
    "### The Doc object\n",
    "\n",
    "The `Doc` is one of the central data structures in spaCy. It's created automatically when you process a text with the `nlp` object. But you can also instantiate the class manually.\n",
    "\n",
    "After creating the `nlp` object, we can import the `Doc` class from `spacy.tokens`.\n",
    "\n",
    "Here we're creating a doc from three words. The spaces are a list of boolean values indicating whether the word is followed by a space. Every token includes that information – even the last one!\n",
    "\n",
    "The `Doc` class takes three arguments: the shared vocab, the words and the spaces."
   ]
  },
  {
   "cell_type": "code",
   "execution_count": 11,
   "id": "4160abfb",
   "metadata": {
    "id": "4160abfb"
   },
   "outputs": [],
   "source": [
    "# Create an nlp object\n",
    "import spacy\n",
    "nlp = spacy.blank(\"en\")\n",
    "\n",
    "# Import the Doc class\n",
    "from spacy.tokens import Doc\n",
    "\n",
    "# The words and spaces to create the doc from\n",
    "words = [\"Hello\", \"world\", \"!\"]\n",
    "spaces = [True, False, False]\n",
    "\n",
    "# Create a doc manually\n",
    "doc = Doc(nlp.vocab, words=words, spaces=spaces)"
   ]
  },
  {
   "cell_type": "markdown",
   "id": "7ec532c9",
   "metadata": {
    "id": "7ec532c9"
   },
   "source": [
    "### The Span object\n",
    "\n",
    "A `Span` is a slice of a doc consisting of one or more tokens. The `Span` takes at least three arguments: the doc it refers to, and the start and end index of the span. Remember that the end index is exclusive!\n",
    "\n",
    "![image.png](attachment:image.png)\n",
    "\n",
    "To create a `Span` manually, we can also import the class from `spacy.tokens`. We can then instantiate it with the doc and the span's start and end index, and an optional label argument.\n",
    "\n",
    "The `doc.ents` are writable, so we can add entities manually by overwriting it with a list of spans.\n"
   ]
  },
  {
   "cell_type": "code",
   "execution_count": 14,
   "id": "d92acb7d",
   "metadata": {
    "id": "d92acb7d"
   },
   "outputs": [],
   "source": [
    "# Import the Doc and Span classes\n",
    "from spacy.tokens import Doc, Span\n",
    "\n",
    "# The words and spaces to create the doc from\n",
    "words = [\"Hello\", \"world\", \"!\"]\n",
    "spaces = [True, False, False]\n",
    "\n",
    "# Create a doc manually\n",
    "doc = Doc(nlp.vocab, words=words, spaces=spaces)\n",
    "\n",
    "# Create a span manually\n",
    "span = Span(doc, 0, 2)\n",
    "\n",
    "# Create a span with a label\n",
    "span_with_label = Span(doc, 0, 2, label=\"GREETING\")\n",
    "\n",
    "# Add span to the doc.ents\n",
    "doc.ents = [span_with_label]"
   ]
  },
  {
   "cell_type": "markdown",
   "id": "d0aa23a6",
   "metadata": {
    "id": "d0aa23a6"
   },
   "source": [
    "### Best practices\n",
    "\n",
    "- ```Doc``` and ```Span``` are very powerful and hold references and relationships of words and sentences\n",
    "    - **Convert result to strings as late as possible**\n",
    "    - **Use token attributes if available** – for example, ```token.i``` for the token index\n",
    "- Don't forget to pass in the shared ```vocab```"
   ]
  },
  {
   "cell_type": "markdown",
   "id": "9df25e2f",
   "metadata": {
    "id": "9df25e2f"
   },
   "source": [
    "## D. Creating a Doc:\n",
    "\n",
    "Let’s create some ```Doc``` objects from scratch!\n",
    "\n",
    "#### Part 1\n",
    "\n",
    "- Import the ```Doc``` from ```spacy.tokens```.\n",
    "- Create a ```Doc``` from the ```words``` and ```spaces```. Don’t forget to pass in the vocab!\n"
   ]
  },
  {
   "cell_type": "code",
   "execution_count": 15,
   "id": "87744e3e",
   "metadata": {
    "colab": {
     "base_uri": "https://localhost:8080/"
    },
    "id": "87744e3e",
    "outputId": "21120af3-744e-4733-ecd7-ad2804f38acd"
   },
   "outputs": [
    {
     "name": "stdout",
     "output_type": "stream",
     "text": [
      "spaCy is cool!\n"
     ]
    }
   ],
   "source": [
    "import spacy\n",
    "\n",
    "nlp = spacy.blank(\"en\")\n",
    "\n",
    "# Import the Doc class\n",
    "from spacy.tokens import Doc, Span\n",
    "\n",
    "# Desired text: \"spaCy is cool!\"\n",
    "words = [\"spaCy\", \"is\", \"cool\", \"!\"]\n",
    "spaces = [True, True, False, False]\n",
    "\n",
    "# Create a Doc from the words and spaces\n",
    "doc = Doc(nlp.vocab, words=words, spaces=spaces)\n",
    "print(doc.text)"
   ]
  },
  {
   "cell_type": "markdown",
   "id": "722b69a6",
   "metadata": {
    "id": "722b69a6"
   },
   "source": [
    "#### Part 2\n",
    "\n",
    "- Import the ```Doc``` from ```spacy.tokens```.\n",
    "- Create a ```Doc``` from the ```words``` and ```spaces```. Don’t forget to pass in the vocab!"
   ]
  },
  {
   "cell_type": "code",
   "execution_count": 16,
   "id": "f7aaaa50",
   "metadata": {
    "colab": {
     "base_uri": "https://localhost:8080/"
    },
    "id": "f7aaaa50",
    "outputId": "17357dc6-32b9-4057-d927-60616a72b54a"
   },
   "outputs": [
    {
     "name": "stdout",
     "output_type": "stream",
     "text": [
      "Go, get started!\n"
     ]
    }
   ],
   "source": [
    "import spacy\n",
    "\n",
    "nlp = spacy.blank(\"en\")\n",
    "\n",
    "# Import the Doc class\n",
    "from spacy.tokens import Doc\n",
    "\n",
    "# Desired text: \"Go, get started!\"\n",
    "words = [\"Go\", \",\", \"get\", \"started\", \"!\"]\n",
    "spaces = [False, True, True, False, False]\n",
    "\n",
    "# Create a Doc from the words and spaces\n",
    "doc = Doc(nlp.vocab, words=words, spaces=spaces)\n",
    "print(doc.text)"
   ]
  },
  {
   "cell_type": "markdown",
   "id": "3101da20",
   "metadata": {
    "id": "3101da20"
   },
   "source": [
    "#### Part 3\n",
    "\n",
    "- Import the ```Doc``` from ```spacy.tokens```.\n",
    "- Complete the ```words``` and ```spaces``` to match the desired text and create a ```doc```."
   ]
  },
  {
   "cell_type": "code",
   "execution_count": 17,
   "id": "6b8fae92",
   "metadata": {
    "colab": {
     "base_uri": "https://localhost:8080/"
    },
    "id": "6b8fae92",
    "outputId": "8ac47714-a518-4132-e235-27b30dcf4396"
   },
   "outputs": [
    {
     "name": "stdout",
     "output_type": "stream",
     "text": [
      "Oh, really?!\n"
     ]
    }
   ],
   "source": [
    "import spacy\n",
    "\n",
    "nlp = spacy.blank(\"en\")\n",
    "\n",
    "# Import the Doc class\n",
    "from spacy.tokens import Doc\n",
    "\n",
    "# Desired text: \"Oh, really?!\"\n",
    "words = [\"Oh\", \",\", \"really\", \"?\", \"!\"]\n",
    "spaces = [False, True, False, False, False]\n",
    "\n",
    "# Create a Doc from the words and spaces\n",
    "doc = Doc(nlp.vocab, words=words, spaces=spaces)\n",
    "print(doc.text)"
   ]
  },
  {
   "cell_type": "markdown",
   "id": "ce8aefae",
   "metadata": {
    "id": "ce8aefae"
   },
   "source": [
    "## E. Docs, spans and entities from scratch\n",
    "\n",
    "In this exercise, you’ll create the `Doc` and `Span` objects manually, and update the named entities – just like spaCy does behind the scenes. A shared `nlp` object has already been created.\n",
    "\n",
    "- Import the `Doc` and `Span` classes from `spacy.tokens`.\n",
    "- Use the `Doc` class directly to create a `doc` from the words and spaces.\n",
    "- Create a `Span` for “David Bowie” from the `doc` and assign it the label `\"PERSON\"`.\n",
    "- Overwrite the `doc.ents` with a list of one entity, the “David Bowie” `span`."
   ]
  },
  {
   "cell_type": "code",
   "execution_count": 19,
   "id": "692fb1f4",
   "metadata": {
    "colab": {
     "base_uri": "https://localhost:8080/"
    },
    "id": "692fb1f4",
    "outputId": "0e492ee8-13dc-4c65-e451-4d188c908fda"
   },
   "outputs": [
    {
     "name": "stdout",
     "output_type": "stream",
     "text": [
      "I like David Bowie\n",
      "David Bowie PERSON\n",
      "[('David Bowie', 'PERSON')]\n"
     ]
    }
   ],
   "source": [
    "import spacy\n",
    "\n",
    "nlp = spacy.blank(\"en\")\n",
    "\n",
    "# Import the Doc and Span classes\n",
    "from spacy.tokens import Doc, Span\n",
    "\n",
    "words = [\"I\", \"like\", \"David\", \"Bowie\"]\n",
    "spaces = [True, True, True, False]\n",
    "\n",
    "# Create a doc from the words and spaces\n",
    "doc = Doc(nlp.vocab, words=words, spaces=spaces)\n",
    "print(doc.text)\n",
    "\n",
    "# Create a span for \"David Bowie\" from the doc and assign it the label \"PERSON\"\n",
    "span = Span(doc, start=2, end=4, label=\"PERSON\")\n",
    "print(span.text, span.label_)\n",
    "\n",
    "# Add the span to the doc's entities\n",
    "doc.ents = [span]\n",
    "\n",
    "# Print entities' text and labels\n",
    "print([(ent.text, ent.label_) for ent in doc.ents])"
   ]
  },
  {
   "cell_type": "markdown",
   "id": "4b10c97e",
   "metadata": {
    "id": "4b10c97e"
   },
   "source": [
    "## F. Data structures best practices\n",
    "\n",
    "The code in this example is trying to analyze a text and collect all proper nouns that are followed by a verb."
   ]
  },
  {
   "cell_type": "code",
   "execution_count": 20,
   "id": "379f11ee",
   "metadata": {
    "colab": {
     "base_uri": "https://localhost:8080/"
    },
    "id": "379f11ee",
    "outputId": "50dc5625-e208-49b2-f58a-9824b109b366"
   },
   "outputs": [
    {
     "name": "stdout",
     "output_type": "stream",
     "text": [
      "Found proper noun before a verb: Berlin\n"
     ]
    }
   ],
   "source": [
    "import spacy\n",
    "\n",
    "nlp = spacy.load(\"en_core_web_sm\")\n",
    "doc = nlp(\"Berlin looks like a nice city\")\n",
    "\n",
    "# Get all tokens and part-of-speech tags\n",
    "token_texts = [token.text for token in doc]\n",
    "pos_tags = [token.pos_ for token in doc]\n",
    "\n",
    "for index, pos in enumerate(pos_tags):\n",
    "    # Check if the current token is a proper noun\n",
    "    if pos == \"PROPN\":\n",
    "        # Check if the next token is a verb\n",
    "        if pos_tags[index + 1] == \"VERB\":\n",
    "            result = token_texts[index]\n",
    "            print(\"Found proper noun before a verb:\", result)"
   ]
  },
  {
   "cell_type": "markdown",
   "id": "a4ea2f9b",
   "metadata": {
    "id": "a4ea2f9b"
   },
   "source": [
    "#### Part 1\n",
    "\n",
    "Why is the code bad?\n",
    "\n",
    "    It only uses lists of strings instead of native token attributes.\n",
    "    This is often less efficient, and can't express complex relationships.\n",
    "    Always convert the results to strings as late as possible, and try to use native token attributes to keep things consistent."
   ]
  },
  {
   "cell_type": "markdown",
   "id": "5249e231",
   "metadata": {
    "id": "5249e231"
   },
   "source": [
    "#### Part 2\n",
    "\n",
    "- Rewrite the code to use the native token attributes instead of lists of  ```token_texts``` and ```pos_tags```.\n",
    "- Loop over each `token` in the `doc` and check the `token.pos_` attribute.\n",
    "- Use `doc[token.i + 1]` to check for the next token and its `.pos_` attribute.\n",
    "- If a proper noun before a verb is found, print its `token.text`."
   ]
  },
  {
   "cell_type": "code",
   "execution_count": null,
   "id": "900b44fa",
   "metadata": {
    "id": "900b44fa"
   },
   "outputs": [],
   "source": [
    "import spacy\n",
    "\n",
    "nlp = spacy.load(\"en_core_web_sm\")\n",
    "doc = nlp(\"Berlin looks like a nice city\")\n",
    "\n",
    "# Get all tokens and part-of-speech tags\n",
    "token_texts = [token.text for token in doc]\n",
    "pos_tags = [token.pos_ for token in doc]\n",
    "\n",
    "for index, pos in enumerate(pos_tags):\n",
    "    # Check if the current token is a proper noun\n",
    "    if pos == \"PROPN\":\n",
    "        # Check if the next token is a verb\n",
    "        if pos_tags[index + 1] == \"VERB\":\n",
    "            result = token_texts[index]\n",
    "            print(\"Found proper noun before a verb:\", result)"
   ]
  },
  {
   "cell_type": "markdown",
   "id": "41bf719a",
   "metadata": {
    "id": "41bf719a"
   },
   "source": [
    "## G. Word vectors and semantic similarity\n",
    "\n",
    "### Comparing semantic similarity\n",
    "\n",
    "spaCy can compare two objects and predict how similar they are – for example, documents, spans or single tokens.\n",
    "\n",
    "The `Doc`, `Token` and `Span` objects have a `.similarity` method that takes another object and returns a floating point number between 0 and 1, indicating how similar they are.\n",
    "\n",
    "One thing that's very important: In order to use similarity, you need a larger spaCy pipeline that has word vectors included.\n",
    "\n",
    "- `spaCy` can compare two objects and predict similarity\n",
    "- `Doc.similarity()`, `Span.similarity()` and `Token.similarity()`\n",
    "- Take another object and return a similarity score (`0` to `1`)\n",
    "- **Important:** needs a pipeline that has word vectors included, for example:\n",
    "    - ✅ `en_core_web_md` (medium)\n",
    "    - ✅ `en_core_web_lg` (large)\n",
    "    - 🚫 **NOT** `en_core_web_sm` (small)"
   ]
  },
  {
   "cell_type": "markdown",
   "id": "5ffab0df",
   "metadata": {
    "id": "5ffab0df"
   },
   "source": [
    "### Similarity examples (1)\n",
    "\n",
    "Here's an example. Let's say we want to find out whether two documents are similar.\n",
    "\n",
    "First, we load the medium English pipeline, \"en_core_web_md\".\n",
    "\n",
    "We can then create two doc objects and use the first doc's `similarity` method to compare it to the second.\n",
    "\n",
    "Here, a fairly high similarity score of 0.86 is predicted for \"I like fast food\" and \"I like pizza\".\n",
    "\n",
    "The same works for tokens.\n",
    "\n",
    "According to the word vectors, the tokens \"pizza\" and \"pasta\" are kind of similar, and receive a score of 0.7.\n"
   ]
  },
  {
   "cell_type": "code",
   "execution_count": null,
   "id": "99554f77",
   "metadata": {
    "id": "99554f77"
   },
   "outputs": [],
   "source": [
    "# Load a larger pipeline with vectors\n",
    "nlp = spacy.load(\"en_core_web_md\")\n",
    "\n",
    "# Compare two documents\n",
    "doc1 = nlp(\"I like fast food\")\n",
    "doc2 = nlp(\"I like pizza\")\n",
    "print(doc1.similarity(doc2))"
   ]
  },
  {
   "cell_type": "raw",
   "id": "c962024c",
   "metadata": {
    "id": "c962024c"
   },
   "source": [
    "OUTPUT:\n",
    "0.8627204117787385"
   ]
  },
  {
   "cell_type": "code",
   "execution_count": null,
   "id": "c2786bb7",
   "metadata": {
    "id": "c2786bb7"
   },
   "outputs": [],
   "source": [
    "# Compare two tokens\n",
    "doc = nlp(\"I like pizza and pasta\")\n",
    "token1 = doc[2]\n",
    "token2 = doc[4]\n",
    "print(token1.similarity(token2))"
   ]
  },
  {
   "cell_type": "raw",
   "id": "da04f194",
   "metadata": {
    "id": "da04f194"
   },
   "source": [
    "OUTPUT:\n",
    "0.7369546"
   ]
  },
  {
   "cell_type": "markdown",
   "id": "4fa4ce7a",
   "metadata": {
    "id": "4fa4ce7a"
   },
   "source": [
    "You can also use the `similarity` methods to compare different types of objects.\n",
    "\n",
    "For example, a document and a token.\n",
    "\n",
    "Here, the similarity score is pretty low and the two objects are considered fairly dissimilar.\n",
    "\n",
    "Here's another example comparing a span – \"pizza and pasta\" – to a document about McDonalds.\n",
    "\n",
    "The score returned here is 0.61, so it's determined to be kind of similar."
   ]
  },
  {
   "cell_type": "code",
   "execution_count": null,
   "id": "24a6b701",
   "metadata": {
    "id": "24a6b701"
   },
   "outputs": [],
   "source": [
    "# Compare a document with a token\n",
    "doc = nlp(\"I like pizza\")\n",
    "token = nlp(\"soap\")[0]\n",
    "\n",
    "print(doc.similarity(token))"
   ]
  },
  {
   "cell_type": "raw",
   "id": "579314f9",
   "metadata": {
    "id": "579314f9"
   },
   "source": [
    "OUTPUT:\n",
    "0.32531983166759537"
   ]
  },
  {
   "cell_type": "code",
   "execution_count": null,
   "id": "7c758bf4",
   "metadata": {
    "id": "7c758bf4"
   },
   "outputs": [],
   "source": [
    "# Compare a span with a document\n",
    "span = nlp(\"I like pizza and pasta\")[2:5]\n",
    "doc = nlp(\"McDonalds sells burgers\")\n",
    "\n",
    "print(span.similarity(doc))"
   ]
  },
  {
   "cell_type": "raw",
   "id": "ebf58941",
   "metadata": {
    "id": "ebf58941"
   },
   "source": [
    "OUTPUT:\n",
    "0.619909235817623"
   ]
  },
  {
   "cell_type": "markdown",
   "id": "8fa083e6",
   "metadata": {
    "id": "8fa083e6"
   },
   "source": [
    "### How does spaCy predict similarity?\n",
    "\n",
    "Similarity is determined using word vectors, multi-dimensional representations of meanings of words.\n",
    "\n",
    "You might have heard of Word2Vec, which is an algorithm that's often used to train word vectors from raw text.\n",
    "\n",
    "Vectors can be added to spaCy's pipelines.\n",
    "\n",
    "By default, the similarity returned by spaCy is the cosine similarity between two vectors – but this can be adjusted if necessary.\n",
    "\n",
    "Vectors for objects consisting of several tokens, like the `Doc` and `Span`, default to the average of their token vectors.\n",
    "\n",
    "That's also why you usually get more value out of shorter phrases with fewer irrelevant words.\n",
    "\n",
    "- Similarity is determined using **word vectors**\n",
    "- Multi-dimensional meaning representations of words\n",
    "- Generated using an algorithm like [Word2Vec](https://en.wikipedia.org/wiki/Word2ve) and lots of text\n",
    "- Can be added to spaCy's pipelines\n",
    "- Default: cosine similarity, but can be adjusted\n",
    "- ```Doc``` and ```Span``` vectors default to average of token vectors\n",
    "- Short phrases are better than long documents with many irrelevant words"
   ]
  },
  {
   "cell_type": "markdown",
   "id": "6520933e",
   "metadata": {
    "id": "6520933e"
   },
   "source": [
    "### Word vectors in spaCy\n",
    "\n",
    "To give you an idea of what those vectors look like, here's an example.\n",
    "\n",
    "First, we load the medium pipeline again, which ships with word vectors.\n",
    "\n",
    "Next, we can process a text and look up a token's vector using the `.vector` attribute.\n",
    "\n",
    "The result is a 300-dimensional vector of the word \"banana\"."
   ]
  },
  {
   "cell_type": "code",
   "execution_count": null,
   "id": "93b01135",
   "metadata": {
    "id": "93b01135"
   },
   "outputs": [],
   "source": [
    "# Load a larger pipeline with vectors\n",
    "nlp = spacy.load(\"en_core_web_md\")\n",
    "\n",
    "doc = nlp(\"I have a banana\")\n",
    "# Access the vector via the token.vector attribute\n",
    "print(doc[3].vector)"
   ]
  },
  {
   "cell_type": "raw",
   "id": "7b1ce3ae",
   "metadata": {
    "id": "7b1ce3ae"
   },
   "source": [
    "OUTPUT:\n",
    "[2.02280000e-01,  -7.66180009e-02,   3.70319992e-01,\n",
    "  3.28450017e-02,  -4.19569999e-01,   7.20689967e-02,\n",
    " -3.74760002e-01,   5.74599989e-02,  -1.24009997e-02,\n",
    "  5.29489994e-01,  -5.23800015e-01,  -1.97710007e-01,\n",
    " -3.41470003e-01,   5.33169985e-01,  -2.53309999e-02,\n",
    "  1.73800007e-01,   1.67720005e-01,   8.39839995e-01,\n",
    "  5.51070012e-02,   1.05470002e-01,   3.78719985e-01,\n",
    "  2.42750004e-01,   1.47449998e-02,   5.59509993e-01,\n",
    "  1.25210002e-01,  -6.75960004e-01,   3.58420014e-01,\n",
    " -4.00279984e-02,   9.59490016e-02,  -5.06900012e-01,\n",
    " -8.53179991e-02,   1.79800004e-01,   3.38669986e-01,\n",
    "  ..."
   ]
  },
  {
   "cell_type": "markdown",
   "id": "9d1f91d1",
   "metadata": {
    "id": "9d1f91d1"
   },
   "source": [
    "### Similarity depends on the application context\n",
    "\n",
    "It's important to keep in mind that there's no objective definition of what's similar and what isn't. It always depends on the context and what your application needs to do.\n",
    "\n",
    "- Useful for many applications: recommendation systems, flagging duplicates etc.\n",
    "- There's no objective definition of \"similarity\"\n",
    "- Depends on the context and what application needs to do\n",
    "\n",
    "Here's an example: spaCy's default word vectors assign a very high similarity score to \"I like cats\" and \"I hate cats\". This makes sense, because both texts express sentiment about cats. But in a different application context, you might want to consider the phrases as very dissimilar, because they talk about opposite sentiments."
   ]
  },
  {
   "cell_type": "code",
   "execution_count": null,
   "id": "c719d94f",
   "metadata": {
    "id": "c719d94f"
   },
   "outputs": [],
   "source": [
    "doc1 = nlp(\"I like cats\")\n",
    "doc2 = nlp(\"I hate cats\")\n",
    "\n",
    "print(doc1.similarity(doc2))"
   ]
  },
  {
   "cell_type": "raw",
   "id": "86d51a7d",
   "metadata": {
    "id": "86d51a7d"
   },
   "source": [
    "OUTPUT:\n",
    "0.9501447503553421"
   ]
  },
  {
   "cell_type": "markdown",
   "id": "e50f0269",
   "metadata": {
    "id": "e50f0269"
   },
   "source": [
    "## H. Inspecting word vectors\n",
    "\n",
    "In this exercise, you’ll use a larger English pipeline, which includes around 20.000 word vectors.\n",
    "\n",
    "- Load the medium `\"en_core_web_md\"` pipeline with word vectors.\n",
    "- Print the vector for `\"bananas\"` using the `token.vector` attribute."
   ]
  },
  {
   "cell_type": "code",
   "execution_count": null,
   "id": "c2d3c253",
   "metadata": {
    "id": "c2d3c253"
   },
   "outputs": [],
   "source": [
    "import spacy\n",
    "\n",
    "# Load the en_core_web_md pipeline\n",
    "nlp = ____\n",
    "\n",
    "# Process a text\n",
    "doc = nlp(\"Two bananas in pyjamas\")\n",
    "\n",
    "# Get the vector for the token \"bananas\"\n",
    "bananas_vector = ____.____\n",
    "print(bananas_vector)"
   ]
  },
  {
   "cell_type": "markdown",
   "id": "cd11d9f3",
   "metadata": {
    "id": "cd11d9f3"
   },
   "source": [
    "## I. Comparing similarities\n",
    "\n",
    "In this exercise, you’ll be using spaCy’s `similarity` methods to compare `Doc`, `Token` and `Span` objects and get similarity scores.\n",
    "\n",
    "#### Part 1\n",
    "\n",
    "- Use the `doc.similarity` method to compare `doc1` to `doc2` and print the result."
   ]
  },
  {
   "cell_type": "code",
   "execution_count": null,
   "id": "f64598ad",
   "metadata": {
    "id": "f64598ad"
   },
   "outputs": [],
   "source": [
    "import spacy\n",
    "\n",
    "nlp = spacy.load(\"en_core_web_md\")\n",
    "\n",
    "doc1 = nlp(\"It's a warm summer day\")\n",
    "doc2 = nlp(\"It's sunny outside\")\n",
    "\n",
    "# Get the similarity of doc1 and doc2\n",
    "similarity = ____.____(____)\n",
    "print(similarity)"
   ]
  },
  {
   "cell_type": "markdown",
   "id": "79127c8f",
   "metadata": {
    "id": "79127c8f"
   },
   "source": [
    "#### Part 2\n",
    "\n",
    "- Use the `token.similarity` method to compare `token1` to `token2` and print the result."
   ]
  },
  {
   "cell_type": "code",
   "execution_count": null,
   "id": "044e7338",
   "metadata": {
    "id": "044e7338"
   },
   "outputs": [],
   "source": [
    "import spacy\n",
    "\n",
    "nlp = spacy.load(\"en_core_web_md\")\n",
    "\n",
    "doc = nlp(\"TV and books\")\n",
    "token1, token2 = doc[0], doc[2]\n",
    "\n",
    "# Get the similarity of the tokens \"TV\" and \"books\"\n",
    "similarity = ____.____(____)\n",
    "print(similarity)"
   ]
  },
  {
   "cell_type": "markdown",
   "id": "013889f5",
   "metadata": {
    "id": "013889f5"
   },
   "source": [
    "#### Part 3\n",
    "\n",
    "- Create spans for “great restaurant”/“really nice bar”.\n",
    "- Use `span.similarity` to compare them and print the result."
   ]
  },
  {
   "cell_type": "code",
   "execution_count": null,
   "id": "2b9ad5a8",
   "metadata": {
    "id": "2b9ad5a8"
   },
   "outputs": [],
   "source": [
    "import spacy\n",
    "\n",
    "nlp = spacy.load(\"en_core_web_md\")\n",
    "\n",
    "doc = nlp(\"This was a great restaurant. Afterwards, we went to a really nice bar.\")\n",
    "\n",
    "# Create spans for \"great restaurant\" and \"really nice bar\"\n",
    "span1 = ____\n",
    "span2 = ____\n",
    "\n",
    "# Get the similarity of the spans\n",
    "similarity = ____.____(____)\n",
    "print(similarity)"
   ]
  },
  {
   "cell_type": "markdown",
   "id": "4b0932c7",
   "metadata": {
    "id": "4b0932c7"
   },
   "source": [
    "## J. Combining predictions and rules\n",
    "\n",
    "### Statistical predictions vs. rules\n",
    "\n",
    "Statistical models are useful if your application needs to be able to generalize based on a few examples.\n",
    "\n",
    "For instance, detecting product or person names usually benefits from a trained model. Instead of providing a list of all person names ever, your application will be able to predict whether a span of tokens is a person name. Similarly, you can predict dependency labels to find subject/object relationships.\n",
    "\n",
    "To do this, you would use spaCy's entity recognizer, dependency parser or part-of-speech tagger.\n",
    "\n",
    "Rule-based approaches on the other hand come in handy if there's a more or less finite number of instances you want to find. For example, all countries or cities of the world, drug names or even dog breeds.\n",
    "\n",
    "In spaCy, you can achieve this with custom tokenization rules, as well as the matcher and phrase matcher.\n",
    "\n",
    "![image-2.png](attachment:image-2.png)"
   ]
  },
  {
   "cell_type": "markdown",
   "id": "c91e5cd2",
   "metadata": {
    "id": "c91e5cd2"
   },
   "source": [
    "### Recap: Rule-based Matching\n",
    "\n",
    "Quick recap of Part1\n",
    "\n",
    "- The matcher is initialized with the shared vocabulary, usually `nlp.vocab`.\n",
    "\n",
    "- Patterns are lists of dictionaries, and each dictionary describes one token and its attributes.\n",
    "- Patterns can be added to the matcher using the `matcher.add` method.\n",
    "\n",
    "- Operators let you specify how often to match a token. For example, \"+\" will match one or more times.\n",
    "\n",
    "- Calling the matcher on a doc object will return a list of the matches.\n",
    "- Each match is a tuple consisting of an ID, and the start and end token index in the document."
   ]
  },
  {
   "cell_type": "code",
   "execution_count": null,
   "id": "a2971a0d",
   "metadata": {
    "id": "a2971a0d"
   },
   "outputs": [],
   "source": [
    "# Initialize with the shared vocab\n",
    "from spacy.matcher import Matcher\n",
    "matcher = Matcher(nlp.vocab)\n",
    "\n",
    "# Patterns are lists of dictionaries describing the tokens\n",
    "pattern = [{\"LEMMA\": \"love\", \"POS\": \"VERB\"}, {\"LOWER\": \"cats\"}]\n",
    "matcher.add(\"LOVE_CATS\", [pattern])\n",
    "\n",
    "# Operators can specify how often a token should be matched\n",
    "pattern = [{\"TEXT\": \"very\", \"OP\": \"+\"}, {\"TEXT\": \"happy\"}]\n",
    "matcher.add(\"VERY_HAPPY\", [pattern])\n",
    "\n",
    "# Calling matcher on doc returns list of (match_id, start, end) tuples\n",
    "doc = nlp(\"I love cats and I'm very very happy\")\n",
    "matches = matcher(doc)"
   ]
  },
  {
   "cell_type": "markdown",
   "id": "9181d262",
   "metadata": {
    "id": "9181d262"
   },
   "source": [
    "### Adding statistical predictions\n",
    "\n",
    "Here's an example of a matcher rule for \"golden retriever\".\n",
    "\n",
    "If we iterate over the matches returned by the matcher, we can get the match ID and the start and end index of the matched span. We can then find out more about it. `Span` objects give us access to the original document and all other token attributes and linguistic features predicted by a model.\n",
    "\n",
    "For example, we can get the span's root token. If the span consists of more than one token, this will be the token that decides the category of the phrase. For example, the root of \"Golden Retriever\" is \"Retriever\". We can also find the head token of the root. This is the syntactic \"parent\" that governs the phrase, in this case, the verb \"have\".\n",
    "\n",
    "Finally, we can look at the previous token and its attributes. In this case, it's a determiner, the article \"a\"."
   ]
  },
  {
   "cell_type": "code",
   "execution_count": null,
   "id": "c1c8ce40",
   "metadata": {
    "id": "c1c8ce40"
   },
   "outputs": [],
   "source": [
    "matcher = Matcher(nlp.vocab)\n",
    "matcher.add(\"DOG\", [[{\"LOWER\": \"golden\"}, {\"LOWER\": \"retriever\"}]])\n",
    "doc = nlp(\"I have a Golden Retriever\")\n",
    "\n",
    "for match_id, start, end in matcher(doc):\n",
    "    span = doc[start:end]\n",
    "    print(\"Matched span:\", span.text)\n",
    "    # Get the span's root token and root head token\n",
    "    print(\"Root token:\", span.root.text)\n",
    "    print(\"Root head token:\", span.root.head.text)\n",
    "    # Get the previous token and its POS tag\n",
    "    print(\"Previous token:\", doc[start - 1].text, doc[start - 1].pos_)"
   ]
  },
  {
   "cell_type": "raw",
   "id": "fa53f380",
   "metadata": {
    "id": "fa53f380"
   },
   "source": [
    "OUTPUT:\n",
    "Matched span: Golden Retriever\n",
    "Root token: Retriever\n",
    "Root head token: have\n",
    "Previous token: a DET"
   ]
  },
  {
   "cell_type": "markdown",
   "id": "499f0390",
   "metadata": {
    "id": "499f0390"
   },
   "source": [
    "### Efficient phrase matching\n",
    "\n",
    "The phrase matcher is another helpful tool to find sequences of words in your data.\n",
    "\n",
    "It performs a keyword search on the document, but instead of only finding strings, it gives you direct access to the tokens in context.\n",
    "\n",
    "It takes `Doc` objects as patterns.\n",
    "\n",
    "It's also really fast.\n",
    "\n",
    "This makes it very useful for matching large dictionaries and word lists on large volumes of text.\n",
    "\n",
    "\n",
    "- `PhraseMatcher` like regular expressions or keyword search – but with access to the tokens!\n",
    "- Takes `Doc` object as patterns\n",
    "- More efficient and faster than the `Matcher`\n",
    "- Great for matching large word lists\n",
    "\n",
    "Here's an example.\n",
    "\n",
    "The phrase matcher can be imported from `spacy.matcher` and follows the same API as the regular matcher.\n",
    "\n",
    "Instead of a list of dictionaries, we pass in a `Doc` object as the pattern.\n",
    "\n",
    "We can then iterate over the matches in the text, which gives us the match ID, and the start and end of the match. This lets us create a `Span` object for the matched tokens \"Golden Retriever\" to analyze it in context.\n"
   ]
  },
  {
   "cell_type": "code",
   "execution_count": null,
   "id": "89de8a72",
   "metadata": {
    "id": "89de8a72"
   },
   "outputs": [],
   "source": [
    "from spacy.matcher import PhraseMatcher\n",
    "\n",
    "matcher = PhraseMatcher(nlp.vocab)\n",
    "\n",
    "pattern = nlp(\"Golden Retriever\")\n",
    "matcher.add(\"DOG\", [pattern])\n",
    "doc = nlp(\"I have a Golden Retriever\")\n",
    "\n",
    "# Iterate over the matches\n",
    "for match_id, start, end in matcher(doc):\n",
    "    # Get the matched span\n",
    "    span = doc[start:end]\n",
    "    print(\"Matched span:\", span.text)"
   ]
  },
  {
   "cell_type": "raw",
   "id": "e75ab045",
   "metadata": {
    "id": "e75ab045"
   },
   "source": [
    "OUTPUT:\n",
    "Matched span: Golden Retriever"
   ]
  },
  {
   "cell_type": "markdown",
   "id": "a451605e",
   "metadata": {
    "id": "a451605e"
   },
   "source": [
    "## K. Débugguer les motifs"
   ]
  },
  {
   "cell_type": "markdown",
   "id": "ff117043",
   "metadata": {
    "id": "ff117043"
   },
   "source": [
    "Both patterns in this exercise contain mistakes and won’t match as expected. Can you fix them? If you get stuck, try printing the tokens in the `doc` to see how the text will be split and adjust the pattern so that each dictionary represents one token.\n",
    "\n",
    "- Edit `pattern1` so that it correctly matches all case-insensitive mentions of `\"Amazon\"` plus a title-cased proper noun.\n",
    "- Edit `pattern2` so that it correctly matches all case-insensitive mentions of `\"ad-free\"`, plus the following noun."
   ]
  },
  {
   "cell_type": "code",
   "execution_count": null,
   "id": "cd8d3ea1",
   "metadata": {
    "id": "cd8d3ea1"
   },
   "outputs": [],
   "source": [
    "import spacy\n",
    "from spacy.matcher import Matcher\n",
    "\n",
    "nlp = spacy.load(\"en_core_web_sm\")\n",
    "doc = nlp(\n",
    "    \"Twitch Prime, the perks program for Amazon Prime members offering free \"\n",
    "    \"loot, games and other benefits, is ditching one of its best features: \"\n",
    "    \"ad-free viewing. According to an email sent out to Amazon Prime members \"\n",
    "    \"today, ad-free viewing will no longer be included as a part of Twitch \"\n",
    "    \"Prime for new members, beginning on September 14. However, members with \"\n",
    "    \"existing annual subscriptions will be able to continue to enjoy ad-free \"\n",
    "    \"viewing until their subscription comes up for renewal. Those with \"\n",
    "    \"monthly subscriptions will have access to ad-free viewing until October 15.\"\n",
    ")\n",
    "\n",
    "# Create the match patterns\n",
    "pattern1 = [{\"LOWER\": \"Amazon\"}, {\"IS_TITLE\": True, \"POS\": \"PROPN\"}]\n",
    "pattern2 = [{\"LOWER\": \"ad-free\"}, {\"POS\": \"NOUN\"}]\n",
    "\n",
    "# Initialize the Matcher and add the patterns\n",
    "matcher = Matcher(nlp.vocab)\n",
    "matcher.add(\"PATTERN1\", [pattern1])\n",
    "matcher.add(\"PATTERN2\", [pattern2])\n",
    "\n",
    "# Iterate over the matches\n",
    "for match_id, start, end in matcher(doc):\n",
    "    # Print pattern string name and text of matched span\n",
    "    print(doc.vocab.strings[match_id], doc[start:end].text)"
   ]
  },
  {
   "cell_type": "markdown",
   "id": "18900f8a",
   "metadata": {
    "id": "18900f8a"
   },
   "source": [
    "## L. Efficient phrase matching\n",
    "\n",
    "Sometimes it’s more efficient to match exact strings instead of writing patterns describing the individual tokens. This is especially true for finite categories of things – like all countries of the world. We already have a list of countries, so let’s use this as the basis of our information extraction script. A list of string names is available as the variable `COUNTRIES`.\n",
    "\n",
    "- Import the `PhraseMatcher` and initialize it with the shared `vocab` as the variable `matcher`.\n",
    "- Add the phrase patterns and call the matcher on the `doc`."
   ]
  },
  {
   "cell_type": "code",
   "execution_count": null,
   "id": "34af241d",
   "metadata": {
    "id": "34af241d"
   },
   "outputs": [],
   "source": [
    "import json\n",
    "import spacy\n",
    "\n",
    "with open(\"exercises/en/countries.json\", encoding=\"utf8\") as f:\n",
    "    COUNTRIES = json.loads(f.read())\n",
    "\n",
    "nlp = spacy.blank(\"en\")\n",
    "doc = nlp(\"Czech Republic may help Slovakia protect its airspace\")\n",
    "\n",
    "# Import the PhraseMatcher and initialize it\n",
    "from spacy.____ import ____\n",
    "\n",
    "matcher = ____(____)\n",
    "\n",
    "# Create pattern Doc objects and add them to the matcher\n",
    "# This is the faster version of: [nlp(country) for country in COUNTRIES]\n",
    "patterns = list(nlp.pipe(COUNTRIES))\n",
    "matcher.add(\"COUNTRY\", patterns)\n",
    "\n",
    "# Call the matcher on the test document and print the result\n",
    "matches = ____(____)\n",
    "print([doc[start:end] for match_id, start, end in matches])"
   ]
  },
  {
   "cell_type": "markdown",
   "id": "f4e24e06",
   "metadata": {
    "id": "f4e24e06"
   },
   "source": [
    "## M. Extracting countries and relationships\n",
    "\n",
    "In the previous exercise, you wrote a script using spaCy’s `PhraseMatcher` to find country names in text. Let’s use that country matcher on a longer text, analyze the syntax and update the document’s entities with the matched countries.\n",
    "\n",
    "- Iterate over the matches and create a `Span` with the label `\"GPE\"` (geopolitical entity).\n",
    "- Overwrite the entities in `doc.ents` and add the matched span.\n",
    "- Get the matched span’s root head token.\n",
    "- Print the text of the head token and the span."
   ]
  },
  {
   "cell_type": "code",
   "execution_count": null,
   "id": "1ca5c60c",
   "metadata": {
    "id": "1ca5c60c"
   },
   "outputs": [],
   "source": [
    "import spacy\n",
    "from spacy.matcher import PhraseMatcher\n",
    "from spacy.tokens import Span\n",
    "import json\n",
    "\n",
    "with open(\"exercises/en/countries.json\", encoding=\"utf8\") as f:\n",
    "    COUNTRIES = json.loads(f.read())\n",
    "with open(\"exercises/en/country_text.txt\", encoding=\"utf8\") as f:\n",
    "    TEXT = f.read()\n",
    "\n",
    "nlp = spacy.load(\"en_core_web_sm\")\n",
    "matcher = PhraseMatcher(nlp.vocab)\n",
    "patterns = list(nlp.pipe(COUNTRIES))\n",
    "matcher.add(\"COUNTRY\", patterns)\n",
    "\n",
    "# Create a doc and reset existing entities\n",
    "doc = nlp(TEXT)\n",
    "doc.ents = []\n",
    "\n",
    "# Iterate over the matches\n",
    "for match_id, start, end in matcher(doc):\n",
    "    # Create a Span with the label for \"GPE\"\n",
    "    span = ____(____, ____, ____, label=____)\n",
    "\n",
    "    # Overwrite the doc.ents and add the span\n",
    "    doc.ents = list(doc.ents) + [____]\n",
    "\n",
    "    # Get the span's root head token\n",
    "    span_root_head = ____.____.____\n",
    "    # Print the text of the span root's head token and the span text\n",
    "    print(span_root_head.____, \"-->\", span.text)\n",
    "\n",
    "# Print the entities in the document\n",
    "print([(ent.text, ent.label_) for ent in doc.ents if ent.label_ == \"GPE\"])"
   ]
  }
 ],
 "metadata": {
  "colab": {
   "name": "Partie2.ipynb",
   "provenance": []
  },
  "kernelspec": {
   "display_name": "Python 3",
   "language": "python",
   "name": "python3"
  },
  "language_info": {
   "codemirror_mode": {
    "name": "ipython",
    "version": 3
   },
   "file_extension": ".py",
   "mimetype": "text/x-python",
   "name": "python",
   "nbconvert_exporter": "python",
   "pygments_lexer": "ipython3",
   "version": "3.8.10"
  }
 },
 "nbformat": 4,
 "nbformat_minor": 5
}
